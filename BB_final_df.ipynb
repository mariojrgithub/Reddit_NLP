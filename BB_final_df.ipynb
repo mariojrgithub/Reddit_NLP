{
 "cells": [
  {
   "cell_type": "markdown",
   "metadata": {},
   "source": [
    "# Create final Breaking Bad dataframe"
   ]
  },
  {
   "cell_type": "code",
   "execution_count": 42,
   "metadata": {},
   "outputs": [],
   "source": [
    "# imports\n",
    "import warnings\n",
    "warnings.filterwarnings(\"ignore\")\n",
    "\n",
    "import pandas as pd\n",
    "import numpy as np\n",
    "from sklearn.model_selection import cross_val_score, train_test_split, GridSearchCV\n",
    "\n",
    "from sklearn.ensemble import RandomForestClassifier, ExtraTreesClassifier"
   ]
  },
  {
   "cell_type": "code",
   "execution_count": 43,
   "metadata": {},
   "outputs": [],
   "source": [
    "from sklearn.feature_extraction.text import CountVectorizer, TfidfVectorizer\n",
    "from sklearn.linear_model import LogisticRegression\n",
    "import json"
   ]
  },
  {
   "cell_type": "markdown",
   "metadata": {},
   "source": [
    "## Load data"
   ]
  },
  {
   "cell_type": "code",
   "execution_count": 44,
   "metadata": {},
   "outputs": [],
   "source": [
    "bb1 = pd.read_csv('./df_csv/breakingbad.csv')"
   ]
  },
  {
   "cell_type": "code",
   "execution_count": 45,
   "metadata": {},
   "outputs": [],
   "source": [
    "bb2 = pd.read_csv('./df_csv/breakingbad_monday.csv')"
   ]
  },
  {
   "cell_type": "code",
   "execution_count": 46,
   "metadata": {},
   "outputs": [],
   "source": [
    "bb3 = pd.read_csv('./df_csv/breakingbad_tuesday.csv')"
   ]
  },
  {
   "cell_type": "markdown",
   "metadata": {},
   "source": [
    "## Drop Unnamed column from each "
   ]
  },
  {
   "cell_type": "code",
   "execution_count": 47,
   "metadata": {},
   "outputs": [],
   "source": [
    "bb1.drop(columns='Unnamed: 0', inplace=True)"
   ]
  },
  {
   "cell_type": "code",
   "execution_count": 48,
   "metadata": {},
   "outputs": [],
   "source": [
    "bb2.drop(columns='Unnamed: 0', inplace=True)"
   ]
  },
  {
   "cell_type": "code",
   "execution_count": 49,
   "metadata": {},
   "outputs": [],
   "source": [
    "bb3.drop(columns='Unnamed: 0', inplace=True)"
   ]
  },
  {
   "cell_type": "markdown",
   "metadata": {},
   "source": [
    "## Create final df"
   ]
  },
  {
   "cell_type": "code",
   "execution_count": 50,
   "metadata": {},
   "outputs": [],
   "source": [
    "bbfinal = pd.concat(objs=[bb1, bb2, bb3], ignore_index=True)"
   ]
  },
  {
   "cell_type": "code",
   "execution_count": 51,
   "metadata": {},
   "outputs": [
    {
     "data": {
      "text/html": [
       "<div>\n",
       "<style scoped>\n",
       "    .dataframe tbody tr th:only-of-type {\n",
       "        vertical-align: middle;\n",
       "    }\n",
       "\n",
       "    .dataframe tbody tr th {\n",
       "        vertical-align: top;\n",
       "    }\n",
       "\n",
       "    .dataframe thead th {\n",
       "        text-align: right;\n",
       "    }\n",
       "</style>\n",
       "<table border=\"1\" class=\"dataframe\">\n",
       "  <thead>\n",
       "    <tr style=\"text-align: right;\">\n",
       "      <th></th>\n",
       "      <th>author</th>\n",
       "      <th>created_utc</th>\n",
       "      <th>downs</th>\n",
       "      <th>num_comments</th>\n",
       "      <th>score</th>\n",
       "      <th>selftext</th>\n",
       "      <th>title</th>\n",
       "      <th>ups</th>\n",
       "    </tr>\n",
       "  </thead>\n",
       "  <tbody>\n",
       "    <tr>\n",
       "      <th>0</th>\n",
       "      <td>Ashutosh1947</td>\n",
       "      <td>2019-07-07 12:03:45</td>\n",
       "      <td>0</td>\n",
       "      <td>6</td>\n",
       "      <td>188</td>\n",
       "      <td>NaN</td>\n",
       "      <td>Los pollos shifts towards noodles from chicken</td>\n",
       "      <td>188</td>\n",
       "    </tr>\n",
       "    <tr>\n",
       "      <th>1</th>\n",
       "      <td>Rykedan</td>\n",
       "      <td>2019-07-06 17:44:03</td>\n",
       "      <td>0</td>\n",
       "      <td>25</td>\n",
       "      <td>1875</td>\n",
       "      <td>NaN</td>\n",
       "      <td>Pretty cool. Thought you guys would appreciate...</td>\n",
       "      <td>1875</td>\n",
       "    </tr>\n",
       "    <tr>\n",
       "      <th>2</th>\n",
       "      <td>Burnnoticelover</td>\n",
       "      <td>2019-07-07 03:01:46</td>\n",
       "      <td>0</td>\n",
       "      <td>17</td>\n",
       "      <td>269</td>\n",
       "      <td>NaN</td>\n",
       "      <td>The ending we got was perfect, but it would ha...</td>\n",
       "      <td>269</td>\n",
       "    </tr>\n",
       "    <tr>\n",
       "      <th>3</th>\n",
       "      <td>spillthetea13</td>\n",
       "      <td>2019-07-07 13:24:13</td>\n",
       "      <td>0</td>\n",
       "      <td>2</td>\n",
       "      <td>21</td>\n",
       "      <td>It's like a kitchen nightmare episode, but ins...</td>\n",
       "      <td>Breaking bad movie idea</td>\n",
       "      <td>21</td>\n",
       "    </tr>\n",
       "    <tr>\n",
       "      <th>4</th>\n",
       "      <td>pretentiousiscool</td>\n",
       "      <td>2019-07-07 15:50:31</td>\n",
       "      <td>0</td>\n",
       "      <td>0</td>\n",
       "      <td>10</td>\n",
       "      <td>NaN</td>\n",
       "      <td>lmao</td>\n",
       "      <td>10</td>\n",
       "    </tr>\n",
       "  </tbody>\n",
       "</table>\n",
       "</div>"
      ],
      "text/plain": [
       "              author          created_utc  downs  num_comments  score  \\\n",
       "0       Ashutosh1947  2019-07-07 12:03:45      0             6    188   \n",
       "1            Rykedan  2019-07-06 17:44:03      0            25   1875   \n",
       "2    Burnnoticelover  2019-07-07 03:01:46      0            17    269   \n",
       "3      spillthetea13  2019-07-07 13:24:13      0             2     21   \n",
       "4  pretentiousiscool  2019-07-07 15:50:31      0             0     10   \n",
       "\n",
       "                                            selftext  \\\n",
       "0                                                NaN   \n",
       "1                                                NaN   \n",
       "2                                                NaN   \n",
       "3  It's like a kitchen nightmare episode, but ins...   \n",
       "4                                                NaN   \n",
       "\n",
       "                                               title   ups  \n",
       "0     Los pollos shifts towards noodles from chicken   188  \n",
       "1  Pretty cool. Thought you guys would appreciate...  1875  \n",
       "2  The ending we got was perfect, but it would ha...   269  \n",
       "3                            Breaking bad movie idea    21  \n",
       "4                                               lmao    10  "
      ]
     },
     "execution_count": 51,
     "metadata": {},
     "output_type": "execute_result"
    }
   ],
   "source": [
    "# check\n",
    "bbfinal.head()"
   ]
  },
  {
   "cell_type": "code",
   "execution_count": 52,
   "metadata": {},
   "outputs": [
    {
     "data": {
      "text/plain": [
       "815"
      ]
     },
     "execution_count": 52,
     "metadata": {},
     "output_type": "execute_result"
    }
   ],
   "source": [
    "# check for duplicates\n",
    "len(set(bbfinal.title))"
   ]
  },
  {
   "cell_type": "code",
   "execution_count": 53,
   "metadata": {},
   "outputs": [],
   "source": [
    "# drop duplicates using title column\n",
    "bbfinal.drop_duplicates(subset='title', inplace=True)"
   ]
  },
  {
   "cell_type": "code",
   "execution_count": 54,
   "metadata": {},
   "outputs": [],
   "source": [
    "# reset index after dropping duplicates\n",
    "bbfinal.reset_index(inplace=True)"
   ]
  },
  {
   "cell_type": "code",
   "execution_count": 55,
   "metadata": {},
   "outputs": [],
   "source": [
    "# remove punctuation\n",
    "bbfinal['title'] = bbfinal['title'].str.replace('[^\\w\\s]','')"
   ]
  },
  {
   "cell_type": "code",
   "execution_count": 56,
   "metadata": {},
   "outputs": [],
   "source": [
    "# remove special character, replace with a space\n",
    "bbfinal['selftext'] = bbfinal['selftext'].str.replace('\\n', ' ')"
   ]
  },
  {
   "cell_type": "code",
   "execution_count": 57,
   "metadata": {},
   "outputs": [],
   "source": [
    "# remove punctuation\n",
    "bbfinal['selftext'] = bbfinal['selftext'].str.replace('[^\\w\\s]','')"
   ]
  },
  {
   "cell_type": "code",
   "execution_count": 58,
   "metadata": {},
   "outputs": [],
   "source": [
    "# add colunmn of 1's\n",
    "bbfinal['subreddit'] = pd.Series([1 for x in range(len(bbfinal.index))])"
   ]
  },
  {
   "cell_type": "code",
   "execution_count": 59,
   "metadata": {},
   "outputs": [],
   "source": [
    "# drop index column\n",
    "bbfinal.drop(columns='index', inplace=True)"
   ]
  },
  {
   "cell_type": "code",
   "execution_count": 60,
   "metadata": {},
   "outputs": [],
   "source": [
    "# create column all_text by combining title and selftext columns\n",
    "bbfinal['all_text'] = bbfinal['title'] + ' ' + bbfinal['selftext'].fillna('')"
   ]
  },
  {
   "cell_type": "code",
   "execution_count": 65,
   "metadata": {},
   "outputs": [
    {
     "data": {
      "text/html": [
       "<div>\n",
       "<style scoped>\n",
       "    .dataframe tbody tr th:only-of-type {\n",
       "        vertical-align: middle;\n",
       "    }\n",
       "\n",
       "    .dataframe tbody tr th {\n",
       "        vertical-align: top;\n",
       "    }\n",
       "\n",
       "    .dataframe thead th {\n",
       "        text-align: right;\n",
       "    }\n",
       "</style>\n",
       "<table border=\"1\" class=\"dataframe\">\n",
       "  <thead>\n",
       "    <tr style=\"text-align: right;\">\n",
       "      <th></th>\n",
       "      <th>author</th>\n",
       "      <th>created_utc</th>\n",
       "      <th>downs</th>\n",
       "      <th>num_comments</th>\n",
       "      <th>score</th>\n",
       "      <th>selftext</th>\n",
       "      <th>title</th>\n",
       "      <th>ups</th>\n",
       "      <th>subreddit</th>\n",
       "      <th>all_text</th>\n",
       "      <th>word_count</th>\n",
       "    </tr>\n",
       "  </thead>\n",
       "  <tbody>\n",
       "    <tr>\n",
       "      <th>0</th>\n",
       "      <td>Ashutosh1947</td>\n",
       "      <td>2019-07-07 12:03:45</td>\n",
       "      <td>0</td>\n",
       "      <td>6</td>\n",
       "      <td>188</td>\n",
       "      <td>NaN</td>\n",
       "      <td>Los pollos shifts towards noodles from chicken</td>\n",
       "      <td>188</td>\n",
       "      <td>1</td>\n",
       "      <td>Los pollos shifts towards noodles from chicken</td>\n",
       "      <td>72</td>\n",
       "    </tr>\n",
       "    <tr>\n",
       "      <th>1</th>\n",
       "      <td>Rykedan</td>\n",
       "      <td>2019-07-06 17:44:03</td>\n",
       "      <td>0</td>\n",
       "      <td>25</td>\n",
       "      <td>1875</td>\n",
       "      <td>NaN</td>\n",
       "      <td>Pretty cool Thought you guys would appreciated...</td>\n",
       "      <td>1875</td>\n",
       "      <td>1</td>\n",
       "      <td>Pretty cool Thought you guys would appreciated...</td>\n",
       "      <td>80</td>\n",
       "    </tr>\n",
       "    <tr>\n",
       "      <th>2</th>\n",
       "      <td>Burnnoticelover</td>\n",
       "      <td>2019-07-07 03:01:46</td>\n",
       "      <td>0</td>\n",
       "      <td>17</td>\n",
       "      <td>269</td>\n",
       "      <td>NaN</td>\n",
       "      <td>The ending we got was perfect but it would hav...</td>\n",
       "      <td>269</td>\n",
       "      <td>1</td>\n",
       "      <td>The ending we got was perfect but it would hav...</td>\n",
       "      <td>157</td>\n",
       "    </tr>\n",
       "    <tr>\n",
       "      <th>3</th>\n",
       "      <td>spillthetea13</td>\n",
       "      <td>2019-07-07 13:24:13</td>\n",
       "      <td>0</td>\n",
       "      <td>2</td>\n",
       "      <td>21</td>\n",
       "      <td>Its like a kitchen nightmare episode but inste...</td>\n",
       "      <td>Breaking bad movie idea</td>\n",
       "      <td>21</td>\n",
       "      <td>1</td>\n",
       "      <td>Breaking bad movie idea Its like a kitchen nig...</td>\n",
       "      <td>424</td>\n",
       "    </tr>\n",
       "    <tr>\n",
       "      <th>4</th>\n",
       "      <td>pretentiousiscool</td>\n",
       "      <td>2019-07-07 15:50:31</td>\n",
       "      <td>0</td>\n",
       "      <td>0</td>\n",
       "      <td>10</td>\n",
       "      <td>NaN</td>\n",
       "      <td>lmao</td>\n",
       "      <td>10</td>\n",
       "      <td>1</td>\n",
       "      <td>lmao</td>\n",
       "      <td>12</td>\n",
       "    </tr>\n",
       "  </tbody>\n",
       "</table>\n",
       "</div>"
      ],
      "text/plain": [
       "              author          created_utc  downs  num_comments  score  \\\n",
       "0       Ashutosh1947  2019-07-07 12:03:45      0             6    188   \n",
       "1            Rykedan  2019-07-06 17:44:03      0            25   1875   \n",
       "2    Burnnoticelover  2019-07-07 03:01:46      0            17    269   \n",
       "3      spillthetea13  2019-07-07 13:24:13      0             2     21   \n",
       "4  pretentiousiscool  2019-07-07 15:50:31      0             0     10   \n",
       "\n",
       "                                            selftext  \\\n",
       "0                                                NaN   \n",
       "1                                                NaN   \n",
       "2                                                NaN   \n",
       "3  Its like a kitchen nightmare episode but inste...   \n",
       "4                                                NaN   \n",
       "\n",
       "                                               title   ups  subreddit  \\\n",
       "0     Los pollos shifts towards noodles from chicken   188          1   \n",
       "1  Pretty cool Thought you guys would appreciated...  1875          1   \n",
       "2  The ending we got was perfect but it would hav...   269          1   \n",
       "3                            Breaking bad movie idea    21          1   \n",
       "4                                               lmao    10          1   \n",
       "\n",
       "                                            all_text  word_count  \n",
       "0    Los pollos shifts towards noodles from chicken           72  \n",
       "1  Pretty cool Thought you guys would appreciated...          80  \n",
       "2  The ending we got was perfect but it would hav...         157  \n",
       "3  Breaking bad movie idea Its like a kitchen nig...         424  \n",
       "4                                              lmao           12  "
      ]
     },
     "execution_count": 65,
     "metadata": {},
     "output_type": "execute_result"
    }
   ],
   "source": [
    "bbfinal.head()"
   ]
  },
  {
   "cell_type": "code",
   "execution_count": 64,
   "metadata": {},
   "outputs": [],
   "source": [
    "# create column that counts the number of words per post\n",
    "bbfinal['word_count'] = bbfinal['all_text'].apply(lambda x: len(str(x.split(' '))))"
   ]
  },
  {
   "cell_type": "code",
   "execution_count": 66,
   "metadata": {},
   "outputs": [
    {
     "data": {
      "text/plain": [
       "417.30306748466256"
      ]
     },
     "execution_count": 66,
     "metadata": {},
     "output_type": "execute_result"
    }
   ],
   "source": [
    "bbfinal['word_count'].mean()"
   ]
  },
  {
   "cell_type": "code",
   "execution_count": 41,
   "metadata": {},
   "outputs": [],
   "source": [
    "# write to csv\n",
    "# bbfinal.to_csv('./df_csv/bbfinal.csv', index=False)"
   ]
  },
  {
   "cell_type": "code",
   "execution_count": 92,
   "metadata": {},
   "outputs": [],
   "source": [
    "# bbfinal = pd.read_csv('./df_csv/bbfinal.csv')"
   ]
  }
 ],
 "metadata": {
  "kernelspec": {
   "display_name": "Python 3",
   "language": "python",
   "name": "python3"
  },
  "language_info": {
   "codemirror_mode": {
    "name": "ipython",
    "version": 3
   },
   "file_extension": ".py",
   "mimetype": "text/x-python",
   "name": "python",
   "nbconvert_exporter": "python",
   "pygments_lexer": "ipython3",
   "version": "3.7.3"
  }
 },
 "nbformat": 4,
 "nbformat_minor": 2
}
