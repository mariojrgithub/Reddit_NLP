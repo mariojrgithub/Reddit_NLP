{
 "cells": [
  {
   "cell_type": "markdown",
   "metadata": {},
   "source": [
    "# tvec and cvec using KNN"
   ]
  },
  {
   "cell_type": "code",
   "execution_count": 29,
   "metadata": {},
   "outputs": [],
   "source": [
    "# imports\n",
    "import pandas as pd\n",
    "import numpy as np\n",
    "from sklearn.model_selection import cross_val_score, train_test_split, GridSearchCV"
   ]
  },
  {
   "cell_type": "code",
   "execution_count": 30,
   "metadata": {},
   "outputs": [],
   "source": [
    "from sklearn.feature_extraction.text import CountVectorizer, TfidfVectorizer\n",
    "from sklearn.linear_model import LogisticRegression\n",
    "import json"
   ]
  },
  {
   "cell_type": "code",
   "execution_count": 31,
   "metadata": {},
   "outputs": [],
   "source": [
    "from sklearn.metrics import accuracy_score, confusion_matrix, classification_report"
   ]
  },
  {
   "cell_type": "code",
   "execution_count": 32,
   "metadata": {},
   "outputs": [],
   "source": [
    "from sklearn.pipeline import Pipeline"
   ]
  },
  {
   "cell_type": "code",
   "execution_count": 33,
   "metadata": {},
   "outputs": [],
   "source": [
    "from sklearn.neighbors import KNeighborsClassifier"
   ]
  },
  {
   "cell_type": "code",
   "execution_count": 34,
   "metadata": {},
   "outputs": [],
   "source": [
    "import seaborn as sns\n",
    "import matplotlib.pyplot as plt"
   ]
  },
  {
   "cell_type": "code",
   "execution_count": 120,
   "metadata": {},
   "outputs": [],
   "source": [
    "# load df's\n",
    "bb = pd.read_csv('../df_csv/bbfinal.csv')\n",
    "bcs = pd.read_csv('../df_csv/bcsfinal.csv')"
   ]
  },
  {
   "cell_type": "code",
   "execution_count": 121,
   "metadata": {},
   "outputs": [
    {
     "data": {
      "text/html": [
       "<div>\n",
       "<style scoped>\n",
       "    .dataframe tbody tr th:only-of-type {\n",
       "        vertical-align: middle;\n",
       "    }\n",
       "\n",
       "    .dataframe tbody tr th {\n",
       "        vertical-align: top;\n",
       "    }\n",
       "\n",
       "    .dataframe thead th {\n",
       "        text-align: right;\n",
       "    }\n",
       "</style>\n",
       "<table border=\"1\" class=\"dataframe\">\n",
       "  <thead>\n",
       "    <tr style=\"text-align: right;\">\n",
       "      <th></th>\n",
       "      <th>author</th>\n",
       "      <th>created_utc</th>\n",
       "      <th>downs</th>\n",
       "      <th>num_comments</th>\n",
       "      <th>score</th>\n",
       "      <th>selftext</th>\n",
       "      <th>title</th>\n",
       "      <th>ups</th>\n",
       "      <th>subreddit</th>\n",
       "      <th>all_text</th>\n",
       "    </tr>\n",
       "  </thead>\n",
       "  <tbody>\n",
       "    <tr>\n",
       "      <th>0</th>\n",
       "      <td>Ashutosh1947</td>\n",
       "      <td>2019-07-07 12:03:45</td>\n",
       "      <td>0</td>\n",
       "      <td>6</td>\n",
       "      <td>188</td>\n",
       "      <td>NaN</td>\n",
       "      <td>Los pollos shifts towards noodles from chicken</td>\n",
       "      <td>188</td>\n",
       "      <td>1</td>\n",
       "      <td>Los pollos shifts towards noodles from chicken</td>\n",
       "    </tr>\n",
       "    <tr>\n",
       "      <th>1</th>\n",
       "      <td>Rykedan</td>\n",
       "      <td>2019-07-06 17:44:03</td>\n",
       "      <td>0</td>\n",
       "      <td>25</td>\n",
       "      <td>1875</td>\n",
       "      <td>NaN</td>\n",
       "      <td>Pretty cool Thought you guys would appreciated...</td>\n",
       "      <td>1875</td>\n",
       "      <td>1</td>\n",
       "      <td>Pretty cool Thought you guys would appreciated...</td>\n",
       "    </tr>\n",
       "    <tr>\n",
       "      <th>2</th>\n",
       "      <td>Burnnoticelover</td>\n",
       "      <td>2019-07-07 03:01:46</td>\n",
       "      <td>0</td>\n",
       "      <td>17</td>\n",
       "      <td>269</td>\n",
       "      <td>NaN</td>\n",
       "      <td>The ending we got was perfect but it would hav...</td>\n",
       "      <td>269</td>\n",
       "      <td>1</td>\n",
       "      <td>The ending we got was perfect but it would hav...</td>\n",
       "    </tr>\n",
       "    <tr>\n",
       "      <th>3</th>\n",
       "      <td>spillthetea13</td>\n",
       "      <td>2019-07-07 13:24:13</td>\n",
       "      <td>0</td>\n",
       "      <td>2</td>\n",
       "      <td>21</td>\n",
       "      <td>Its like a kitchen nightmare episode but inste...</td>\n",
       "      <td>Breaking bad movie idea</td>\n",
       "      <td>21</td>\n",
       "      <td>1</td>\n",
       "      <td>Breaking bad movie idea Its like a kitchen nig...</td>\n",
       "    </tr>\n",
       "    <tr>\n",
       "      <th>4</th>\n",
       "      <td>pretentiousiscool</td>\n",
       "      <td>2019-07-07 15:50:31</td>\n",
       "      <td>0</td>\n",
       "      <td>0</td>\n",
       "      <td>10</td>\n",
       "      <td>NaN</td>\n",
       "      <td>lmao</td>\n",
       "      <td>10</td>\n",
       "      <td>1</td>\n",
       "      <td>lmao</td>\n",
       "    </tr>\n",
       "  </tbody>\n",
       "</table>\n",
       "</div>"
      ],
      "text/plain": [
       "              author          created_utc  downs  num_comments  score  \\\n",
       "0       Ashutosh1947  2019-07-07 12:03:45      0             6    188   \n",
       "1            Rykedan  2019-07-06 17:44:03      0            25   1875   \n",
       "2    Burnnoticelover  2019-07-07 03:01:46      0            17    269   \n",
       "3      spillthetea13  2019-07-07 13:24:13      0             2     21   \n",
       "4  pretentiousiscool  2019-07-07 15:50:31      0             0     10   \n",
       "\n",
       "                                            selftext  \\\n",
       "0                                                NaN   \n",
       "1                                                NaN   \n",
       "2                                                NaN   \n",
       "3  Its like a kitchen nightmare episode but inste...   \n",
       "4                                                NaN   \n",
       "\n",
       "                                               title   ups  subreddit  \\\n",
       "0     Los pollos shifts towards noodles from chicken   188          1   \n",
       "1  Pretty cool Thought you guys would appreciated...  1875          1   \n",
       "2  The ending we got was perfect but it would hav...   269          1   \n",
       "3                            Breaking bad movie idea    21          1   \n",
       "4                                               lmao    10          1   \n",
       "\n",
       "                                            all_text  \n",
       "0    Los pollos shifts towards noodles from chicken   \n",
       "1  Pretty cool Thought you guys would appreciated...  \n",
       "2  The ending we got was perfect but it would hav...  \n",
       "3  Breaking bad movie idea Its like a kitchen nig...  \n",
       "4                                              lmao   "
      ]
     },
     "execution_count": 121,
     "metadata": {},
     "output_type": "execute_result"
    }
   ],
   "source": [
    "# check head\n",
    "bb.head()"
   ]
  },
  {
   "cell_type": "code",
   "execution_count": 122,
   "metadata": {},
   "outputs": [
    {
     "data": {
      "text/html": [
       "<div>\n",
       "<style scoped>\n",
       "    .dataframe tbody tr th:only-of-type {\n",
       "        vertical-align: middle;\n",
       "    }\n",
       "\n",
       "    .dataframe tbody tr th {\n",
       "        vertical-align: top;\n",
       "    }\n",
       "\n",
       "    .dataframe thead th {\n",
       "        text-align: right;\n",
       "    }\n",
       "</style>\n",
       "<table border=\"1\" class=\"dataframe\">\n",
       "  <thead>\n",
       "    <tr style=\"text-align: right;\">\n",
       "      <th></th>\n",
       "      <th>author</th>\n",
       "      <th>created_utc</th>\n",
       "      <th>downs</th>\n",
       "      <th>num_comments</th>\n",
       "      <th>score</th>\n",
       "      <th>selftext</th>\n",
       "      <th>title</th>\n",
       "      <th>ups</th>\n",
       "      <th>subreddit</th>\n",
       "      <th>all_text</th>\n",
       "    </tr>\n",
       "  </thead>\n",
       "  <tbody>\n",
       "    <tr>\n",
       "      <th>0</th>\n",
       "      <td>skinkbaa</td>\n",
       "      <td>2018-11-11 07:52:32</td>\n",
       "      <td>0</td>\n",
       "      <td>251</td>\n",
       "      <td>296</td>\n",
       "      <td>A few people requested this thread    Feel fre...</td>\n",
       "      <td>Breaking Bad Movie   Prediction Thread</td>\n",
       "      <td>296</td>\n",
       "      <td>0</td>\n",
       "      <td>Breaking Bad Movie   Prediction Thread A few p...</td>\n",
       "    </tr>\n",
       "    <tr>\n",
       "      <th>1</th>\n",
       "      <td>skinkbaa</td>\n",
       "      <td>2019-05-05 22:23:21</td>\n",
       "      <td>0</td>\n",
       "      <td>98</td>\n",
       "      <td>88</td>\n",
       "      <td>What do you think will happen next season Feel...</td>\n",
       "      <td>Better Call Saul Season 5   Official Predictio...</td>\n",
       "      <td>88</td>\n",
       "      <td>0</td>\n",
       "      <td>Better Call Saul Season 5   Official Predictio...</td>\n",
       "    </tr>\n",
       "    <tr>\n",
       "      <th>2</th>\n",
       "      <td>snarfje</td>\n",
       "      <td>2019-07-07 09:20:38</td>\n",
       "      <td>0</td>\n",
       "      <td>36</td>\n",
       "      <td>944</td>\n",
       "      <td>NaN</td>\n",
       "      <td>Saw this gentlemen on a  foodtruck festival  i...</td>\n",
       "      <td>944</td>\n",
       "      <td>0</td>\n",
       "      <td>Saw this gentlemen on a  foodtruck festival  i...</td>\n",
       "    </tr>\n",
       "    <tr>\n",
       "      <th>3</th>\n",
       "      <td>RrentTreznor</td>\n",
       "      <td>2019-07-06 21:50:07</td>\n",
       "      <td>0</td>\n",
       "      <td>35</td>\n",
       "      <td>404</td>\n",
       "      <td>NaN</td>\n",
       "      <td>Cherished family heirloom finally has made its...</td>\n",
       "      <td>404</td>\n",
       "      <td>0</td>\n",
       "      <td>Cherished family heirloom finally has made its...</td>\n",
       "    </tr>\n",
       "    <tr>\n",
       "      <th>4</th>\n",
       "      <td>Ashutosh1947</td>\n",
       "      <td>2019-07-07 16:12:49</td>\n",
       "      <td>0</td>\n",
       "      <td>0</td>\n",
       "      <td>1</td>\n",
       "      <td>NaN</td>\n",
       "      <td>Oc</td>\n",
       "      <td>1</td>\n",
       "      <td>0</td>\n",
       "      <td>Oc</td>\n",
       "    </tr>\n",
       "  </tbody>\n",
       "</table>\n",
       "</div>"
      ],
      "text/plain": [
       "         author          created_utc  downs  num_comments  score  \\\n",
       "0      skinkbaa  2018-11-11 07:52:32      0           251    296   \n",
       "1      skinkbaa  2019-05-05 22:23:21      0            98     88   \n",
       "2       snarfje  2019-07-07 09:20:38      0            36    944   \n",
       "3  RrentTreznor  2019-07-06 21:50:07      0            35    404   \n",
       "4  Ashutosh1947  2019-07-07 16:12:49      0             0      1   \n",
       "\n",
       "                                            selftext  \\\n",
       "0  A few people requested this thread    Feel fre...   \n",
       "1  What do you think will happen next season Feel...   \n",
       "2                                                NaN   \n",
       "3                                                NaN   \n",
       "4                                                NaN   \n",
       "\n",
       "                                               title  ups  subreddit  \\\n",
       "0             Breaking Bad Movie   Prediction Thread  296          0   \n",
       "1  Better Call Saul Season 5   Official Predictio...   88          0   \n",
       "2  Saw this gentlemen on a  foodtruck festival  i...  944          0   \n",
       "3  Cherished family heirloom finally has made its...  404          0   \n",
       "4                                                 Oc    1          0   \n",
       "\n",
       "                                            all_text  \n",
       "0  Breaking Bad Movie   Prediction Thread A few p...  \n",
       "1  Better Call Saul Season 5   Official Predictio...  \n",
       "2  Saw this gentlemen on a  foodtruck festival  i...  \n",
       "3  Cherished family heirloom finally has made its...  \n",
       "4                                                Oc   "
      ]
     },
     "execution_count": 122,
     "metadata": {},
     "output_type": "execute_result"
    }
   ],
   "source": [
    "# check head\n",
    "bcs.head()"
   ]
  },
  {
   "cell_type": "code",
   "execution_count": 123,
   "metadata": {},
   "outputs": [],
   "source": [
    "# combine df's into one large one\n",
    "data = pd.concat(objs=[bcs[['all_text', 'subreddit', 'num_comments', 'score']], bb[['all_text', 'subreddit', 'num_comments', 'score']]], ignore_index=True)"
   ]
  },
  {
   "cell_type": "code",
   "execution_count": 124,
   "metadata": {},
   "outputs": [
    {
     "data": {
      "text/plain": [
       "1    0.513871\n",
       "0    0.486129\n",
       "Name: subreddit, dtype: float64"
      ]
     },
     "execution_count": 124,
     "metadata": {},
     "output_type": "execute_result"
    }
   ],
   "source": [
    "# check number of 1's and 0's in target\n",
    "data['subreddit'].value_counts(normalize=True)"
   ]
  },
  {
   "cell_type": "code",
   "execution_count": 125,
   "metadata": {},
   "outputs": [
    {
     "data": {
      "text/plain": [
       "<matplotlib.axes._subplots.AxesSubplot at 0x1a2898b940>"
      ]
     },
     "execution_count": 125,
     "metadata": {},
     "output_type": "execute_result"
    },
    {
     "data": {
      "image/png": "[encoded data removed]",
      "text/plain": [
       "<Figure size 432x288 with 1 Axes>"
      ]
     },
     "metadata": {
      "needs_background": "light"
     },
     "output_type": "display_data"
    }
   ],
   "source": [
    "# dist of 1's and 0's\n",
    "sns.distplot(data['subreddit'])"
   ]
  },
  {
   "cell_type": "code",
   "execution_count": 126,
   "metadata": {},
   "outputs": [],
   "source": [
    "# remove numbers from text\n",
    "data['all_text'] = data['all_text'].str.replace('\\d+', '')"
   ]
  },
  {
   "cell_type": "code",
   "execution_count": 87,
   "metadata": {},
   "outputs": [],
   "source": [
    "from nltk.corpus import stopwords"
   ]
  },
  {
   "cell_type": "code",
   "execution_count": 88,
   "metadata": {},
   "outputs": [],
   "source": [
    "stops = set(stopwords.words('english'))"
   ]
  },
  {
   "cell_type": "code",
   "execution_count": 127,
   "metadata": {},
   "outputs": [],
   "source": [
    "# set X and y variables\n",
    "X = data['all_text']\n",
    "y = data['subreddit']"
   ]
  },
  {
   "cell_type": "code",
   "execution_count": 128,
   "metadata": {},
   "outputs": [],
   "source": [
    "# train test split\n",
    "X_train, X_test, y_train, y_test = train_test_split(X, y, stratify=y, test_size=0.3, random_state=42)"
   ]
  },
  {
   "cell_type": "code",
   "execution_count": 129,
   "metadata": {},
   "outputs": [],
   "source": [
    "# pipeline\n",
    "\n",
    "pipe = Pipeline([\n",
    "    ('tvec', TfidfVectorizer()),\n",
    "    ('knn', KNeighborsClassifier())\n",
    "])"
   ]
  },
  {
   "cell_type": "code",
   "execution_count": 130,
   "metadata": {},
   "outputs": [
    {
     "data": {
      "text/plain": [
       "0.6954954954954955"
      ]
     },
     "execution_count": 130,
     "metadata": {},
     "output_type": "execute_result"
    }
   ],
   "source": [
    "# evaluate on unseen data\n",
    "cross_val_score(pipe, X_train, y_train, cv=5).mean()"
   ]
  },
  {
   "cell_type": "code",
   "execution_count": 47,
   "metadata": {},
   "outputs": [
    {
     "name": "stdout",
     "output_type": "stream",
     "text": [
      "0.7324324324324324\n"
     ]
    },
    {
     "data": {
      "text/plain": [
       "{'knn__metric': 'euclidean',\n",
       " 'knn__n_neighbors': 20,\n",
       " 'knn__weights': 'uniform',\n",
       " 'tvec__max_df': 0.9,\n",
       " 'tvec__max_features': 3000,\n",
       " 'tvec__min_df': 2,\n",
       " 'tvec__ngram_range': (1, 1),\n",
       " 'tvec__stop_words': None}"
      ]
     },
     "execution_count": 47,
     "metadata": {},
     "output_type": "execute_result"
    }
   ],
   "source": [
    "# gridsearch for best parameters\n",
    "\n",
    "pipe_params = {\n",
    "    'tvec__max_features':[3000, 3500, 4000],\n",
    "    'tvec__min_df':[2, 3],\n",
    "    'tvec__max_df':[.9, .95],\n",
    "    'tvec__ngram_range':[(1,1),(1,2)],\n",
    "    'tvec__stop_words':[None, 'english'],\n",
    "    'knn__n_neighbors': [3, 5, 10, 20],\n",
    "    'knn__weights':['uniform', 'distance'],\n",
    "    'knn__metric':['euclidean', 'manhattan'],\n",
    "}\n",
    "\n",
    "gs = GridSearchCV(pipe, param_grid=pipe_params, cv=5)\n",
    "gs.fit(X_train, y_train)\n",
    "print(gs.best_score_)\n",
    "gs.best_params_"
   ]
  },
  {
   "cell_type": "code",
   "execution_count": 48,
   "metadata": {},
   "outputs": [
    {
     "data": {
      "text/plain": [
       "0.7963963963963964"
      ]
     },
     "execution_count": 48,
     "metadata": {},
     "output_type": "execute_result"
    }
   ],
   "source": [
    "# accuracy score on train data\n",
    "gs.score(X_train, y_train)"
   ]
  },
  {
   "cell_type": "code",
   "execution_count": 49,
   "metadata": {},
   "outputs": [
    {
     "data": {
      "text/plain": [
       "0.7394957983193278"
      ]
     },
     "execution_count": 49,
     "metadata": {},
     "output_type": "execute_result"
    }
   ],
   "source": [
    "# accuracy score on test data\n",
    "gs.score(X_test, y_test)"
   ]
  },
  {
   "cell_type": "markdown",
   "metadata": {},
   "source": [
    "## Fit model with optimal parameters"
   ]
  },
  {
   "cell_type": "code",
   "execution_count": 139,
   "metadata": {},
   "outputs": [],
   "source": [
    "tvec = TfidfVectorizer(max_df= 0.9,\n",
    " max_features= 3000,\n",
    " min_df= 2,\n",
    " ngram_range= (1, 1),\n",
    " stop_words= None)"
   ]
  },
  {
   "cell_type": "code",
   "execution_count": 140,
   "metadata": {},
   "outputs": [],
   "source": [
    "X_train_vec = tvec.fit_transform(X_train)\n",
    "X_test_vec = tvec.transform(X_test)"
   ]
  },
  {
   "cell_type": "code",
   "execution_count": 141,
   "metadata": {},
   "outputs": [],
   "source": [
    "knn = KNeighborsClassifier(\n",
    "    metric='euclidean',\n",
    "    n_neighbors=20,\n",
    "    weights='uniform'\n",
    ")"
   ]
  },
  {
   "cell_type": "code",
   "execution_count": 142,
   "metadata": {},
   "outputs": [
    {
     "data": {
      "text/plain": [
       "KNeighborsClassifier(algorithm='auto', leaf_size=30, metric='euclidean',\n",
       "                     metric_params=None, n_jobs=None, n_neighbors=20, p=2,\n",
       "                     weights='uniform')"
      ]
     },
     "execution_count": 142,
     "metadata": {},
     "output_type": "execute_result"
    }
   ],
   "source": [
    "knn.fit(X_train_vec, y_train)"
   ]
  },
  {
   "cell_type": "code",
   "execution_count": 143,
   "metadata": {},
   "outputs": [],
   "source": [
    "# get predictions\n",
    "predictions = knn.predict(X_test_vec)"
   ]
  },
  {
   "cell_type": "code",
   "execution_count": 144,
   "metadata": {},
   "outputs": [],
   "source": [
    "# create confusion matrix\n",
    "cm = confusion_matrix(y_test, predictions)"
   ]
  },
  {
   "cell_type": "code",
   "execution_count": 145,
   "metadata": {},
   "outputs": [
    {
     "name": "stdout",
     "output_type": "stream",
     "text": [
      "              precision    recall  f1-score   support\n",
      "\n",
      "           0       0.61      0.79      0.69       179\n",
      "           1       0.84      0.70      0.76       297\n",
      "\n",
      "    accuracy                           0.73       476\n",
      "   macro avg       0.73      0.74      0.73       476\n",
      "weighted avg       0.76      0.73      0.74       476\n",
      "\n"
     ]
    }
   ],
   "source": [
    "# print report\n",
    "print(classification_report(predictions, y_test))"
   ]
  },
  {
   "cell_type": "code",
   "execution_count": 146,
   "metadata": {},
   "outputs": [
    {
     "data": {
      "image/png": "[encoded data removed]",
      "text/plain": [
       "<Figure size 432x288 with 2 Axes>"
      ]
     },
     "metadata": {
      "needs_background": "light"
     },
     "output_type": "display_data"
    }
   ],
   "source": [
    "# adapted from stackoverflow\n",
    "# plot confusion matrix\n",
    "ax= plt.subplot()\n",
    "sns.heatmap(cm, annot=True, ax = ax, cmap='Blues', fmt='g'); #annot=True to annotate cells"
   ]
  },
  {
   "cell_type": "code",
   "execution_count": 147,
   "metadata": {},
   "outputs": [],
   "source": [
    "# create a list of word counts to plot\n",
    "train_list = list(zip(tvec.get_feature_names(), X_train_vec.toarray().sum(axis=0)))"
   ]
  },
  {
   "cell_type": "code",
   "execution_count": 148,
   "metadata": {},
   "outputs": [],
   "source": [
    "# convert to dataframe\n",
    "train_list = pd.DataFrame(train_list, columns=['word', 'word_count'])"
   ]
  },
  {
   "cell_type": "code",
   "execution_count": 149,
   "metadata": {
    "collapsed": true
   },
   "outputs": [
    {
     "data": {
      "text/html": [
       "<div>\n",
       "<style scoped>\n",
       "    .dataframe tbody tr th:only-of-type {\n",
       "        vertical-align: middle;\n",
       "    }\n",
       "\n",
       "    .dataframe tbody tr th {\n",
       "        vertical-align: top;\n",
       "    }\n",
       "\n",
       "    .dataframe thead th {\n",
       "        text-align: right;\n",
       "    }\n",
       "</style>\n",
       "<table border=\"1\" class=\"dataframe\">\n",
       "  <thead>\n",
       "    <tr style=\"text-align: right;\">\n",
       "      <th></th>\n",
       "      <th>word</th>\n",
       "      <th>word_count</th>\n",
       "    </tr>\n",
       "  </thead>\n",
       "  <tbody>\n",
       "    <tr>\n",
       "      <th>0</th>\n",
       "      <td>aaron</td>\n",
       "      <td>4.532495</td>\n",
       "    </tr>\n",
       "    <tr>\n",
       "      <th>1</th>\n",
       "      <td>abiquiu</td>\n",
       "      <td>0.130565</td>\n",
       "    </tr>\n",
       "    <tr>\n",
       "      <th>2</th>\n",
       "      <td>able</td>\n",
       "      <td>1.074309</td>\n",
       "    </tr>\n",
       "    <tr>\n",
       "      <th>3</th>\n",
       "      <td>about</td>\n",
       "      <td>17.921386</td>\n",
       "    </tr>\n",
       "    <tr>\n",
       "      <th>4</th>\n",
       "      <td>above</td>\n",
       "      <td>0.744759</td>\n",
       "    </tr>\n",
       "    <tr>\n",
       "      <th>5</th>\n",
       "      <td>abq</td>\n",
       "      <td>2.441773</td>\n",
       "    </tr>\n",
       "    <tr>\n",
       "      <th>6</th>\n",
       "      <td>absolutely</td>\n",
       "      <td>2.877208</td>\n",
       "    </tr>\n",
       "    <tr>\n",
       "      <th>7</th>\n",
       "      <td>accept</td>\n",
       "      <td>0.139207</td>\n",
       "    </tr>\n",
       "    <tr>\n",
       "      <th>8</th>\n",
       "      <td>accepted</td>\n",
       "      <td>0.456413</td>\n",
       "    </tr>\n",
       "    <tr>\n",
       "      <th>9</th>\n",
       "      <td>accepts</td>\n",
       "      <td>0.527957</td>\n",
       "    </tr>\n",
       "    <tr>\n",
       "      <th>10</th>\n",
       "      <td>accident</td>\n",
       "      <td>0.541942</td>\n",
       "    </tr>\n",
       "    <tr>\n",
       "      <th>11</th>\n",
       "      <td>account</td>\n",
       "      <td>0.401849</td>\n",
       "    </tr>\n",
       "    <tr>\n",
       "      <th>12</th>\n",
       "      <td>accounting</td>\n",
       "      <td>0.225542</td>\n",
       "    </tr>\n",
       "    <tr>\n",
       "      <th>13</th>\n",
       "      <td>accurate</td>\n",
       "      <td>0.656306</td>\n",
       "    </tr>\n",
       "    <tr>\n",
       "      <th>14</th>\n",
       "      <td>achieved</td>\n",
       "      <td>0.375073</td>\n",
       "    </tr>\n",
       "    <tr>\n",
       "      <th>15</th>\n",
       "      <td>across</td>\n",
       "      <td>0.539594</td>\n",
       "    </tr>\n",
       "    <tr>\n",
       "      <th>16</th>\n",
       "      <td>act</td>\n",
       "      <td>0.543819</td>\n",
       "    </tr>\n",
       "    <tr>\n",
       "      <th>17</th>\n",
       "      <td>acting</td>\n",
       "      <td>1.954878</td>\n",
       "    </tr>\n",
       "    <tr>\n",
       "      <th>18</th>\n",
       "      <td>action</td>\n",
       "      <td>0.532096</td>\n",
       "    </tr>\n",
       "    <tr>\n",
       "      <th>19</th>\n",
       "      <td>actions</td>\n",
       "      <td>0.778548</td>\n",
       "    </tr>\n",
       "    <tr>\n",
       "      <th>20</th>\n",
       "      <td>active</td>\n",
       "      <td>0.270077</td>\n",
       "    </tr>\n",
       "    <tr>\n",
       "      <th>21</th>\n",
       "      <td>activities</td>\n",
       "      <td>0.093854</td>\n",
       "    </tr>\n",
       "    <tr>\n",
       "      <th>22</th>\n",
       "      <td>actor</td>\n",
       "      <td>2.884239</td>\n",
       "    </tr>\n",
       "    <tr>\n",
       "      <th>23</th>\n",
       "      <td>actors</td>\n",
       "      <td>0.859791</td>\n",
       "    </tr>\n",
       "    <tr>\n",
       "      <th>24</th>\n",
       "      <td>actress</td>\n",
       "      <td>0.237215</td>\n",
       "    </tr>\n",
       "    <tr>\n",
       "      <th>25</th>\n",
       "      <td>acts</td>\n",
       "      <td>0.308140</td>\n",
       "    </tr>\n",
       "    <tr>\n",
       "      <th>26</th>\n",
       "      <td>actually</td>\n",
       "      <td>4.514292</td>\n",
       "    </tr>\n",
       "    <tr>\n",
       "      <th>27</th>\n",
       "      <td>ad</td>\n",
       "      <td>0.445042</td>\n",
       "    </tr>\n",
       "    <tr>\n",
       "      <th>28</th>\n",
       "      <td>add</td>\n",
       "      <td>1.221027</td>\n",
       "    </tr>\n",
       "    <tr>\n",
       "      <th>29</th>\n",
       "      <td>added</td>\n",
       "      <td>0.560186</td>\n",
       "    </tr>\n",
       "    <tr>\n",
       "      <th>...</th>\n",
       "      <td>...</td>\n",
       "      <td>...</td>\n",
       "    </tr>\n",
       "    <tr>\n",
       "      <th>2735</th>\n",
       "      <td>writing</td>\n",
       "      <td>1.296251</td>\n",
       "    </tr>\n",
       "    <tr>\n",
       "      <th>2736</th>\n",
       "      <td>written</td>\n",
       "      <td>1.090067</td>\n",
       "    </tr>\n",
       "    <tr>\n",
       "      <th>2737</th>\n",
       "      <td>wrong</td>\n",
       "      <td>2.818397</td>\n",
       "    </tr>\n",
       "    <tr>\n",
       "      <th>2738</th>\n",
       "      <td>wtf</td>\n",
       "      <td>0.391277</td>\n",
       "    </tr>\n",
       "    <tr>\n",
       "      <th>2739</th>\n",
       "      <td>ww</td>\n",
       "      <td>0.836470</td>\n",
       "    </tr>\n",
       "    <tr>\n",
       "      <th>2740</th>\n",
       "      <td>ya</td>\n",
       "      <td>0.343749</td>\n",
       "    </tr>\n",
       "    <tr>\n",
       "      <th>2741</th>\n",
       "      <td>yall</td>\n",
       "      <td>1.561300</td>\n",
       "    </tr>\n",
       "    <tr>\n",
       "      <th>2742</th>\n",
       "      <td>yeah</td>\n",
       "      <td>0.622950</td>\n",
       "    </tr>\n",
       "    <tr>\n",
       "      <th>2743</th>\n",
       "      <td>year</td>\n",
       "      <td>1.881780</td>\n",
       "    </tr>\n",
       "    <tr>\n",
       "      <th>2744</th>\n",
       "      <td>years</td>\n",
       "      <td>5.383525</td>\n",
       "    </tr>\n",
       "    <tr>\n",
       "      <th>2745</th>\n",
       "      <td>yellow</td>\n",
       "      <td>0.975782</td>\n",
       "    </tr>\n",
       "    <tr>\n",
       "      <th>2746</th>\n",
       "      <td>yells</td>\n",
       "      <td>0.406333</td>\n",
       "    </tr>\n",
       "    <tr>\n",
       "      <th>2747</th>\n",
       "      <td>yes</td>\n",
       "      <td>0.849000</td>\n",
       "    </tr>\n",
       "    <tr>\n",
       "      <th>2748</th>\n",
       "      <td>yesterday</td>\n",
       "      <td>0.978695</td>\n",
       "    </tr>\n",
       "    <tr>\n",
       "      <th>2749</th>\n",
       "      <td>yet</td>\n",
       "      <td>3.369447</td>\n",
       "    </tr>\n",
       "    <tr>\n",
       "      <th>2750</th>\n",
       "      <td>yo</td>\n",
       "      <td>1.877015</td>\n",
       "    </tr>\n",
       "    <tr>\n",
       "      <th>2751</th>\n",
       "      <td>york</td>\n",
       "      <td>0.361494</td>\n",
       "    </tr>\n",
       "    <tr>\n",
       "      <th>2752</th>\n",
       "      <td>you</td>\n",
       "      <td>27.780189</td>\n",
       "    </tr>\n",
       "    <tr>\n",
       "      <th>2753</th>\n",
       "      <td>youd</td>\n",
       "      <td>0.239503</td>\n",
       "    </tr>\n",
       "    <tr>\n",
       "      <th>2754</th>\n",
       "      <td>youll</td>\n",
       "      <td>0.245906</td>\n",
       "    </tr>\n",
       "    <tr>\n",
       "      <th>2755</th>\n",
       "      <td>young</td>\n",
       "      <td>0.574266</td>\n",
       "    </tr>\n",
       "    <tr>\n",
       "      <th>2756</th>\n",
       "      <td>younger</td>\n",
       "      <td>0.815797</td>\n",
       "    </tr>\n",
       "    <tr>\n",
       "      <th>2757</th>\n",
       "      <td>your</td>\n",
       "      <td>8.810253</td>\n",
       "    </tr>\n",
       "    <tr>\n",
       "      <th>2758</th>\n",
       "      <td>youre</td>\n",
       "      <td>1.628217</td>\n",
       "    </tr>\n",
       "    <tr>\n",
       "      <th>2759</th>\n",
       "      <td>yours</td>\n",
       "      <td>0.218166</td>\n",
       "    </tr>\n",
       "    <tr>\n",
       "      <th>2760</th>\n",
       "      <td>yourself</td>\n",
       "      <td>0.310373</td>\n",
       "    </tr>\n",
       "    <tr>\n",
       "      <th>2761</th>\n",
       "      <td>youtube</td>\n",
       "      <td>1.115891</td>\n",
       "    </tr>\n",
       "    <tr>\n",
       "      <th>2762</th>\n",
       "      <td>youve</td>\n",
       "      <td>0.737813</td>\n",
       "    </tr>\n",
       "    <tr>\n",
       "      <th>2763</th>\n",
       "      <td>zebra</td>\n",
       "      <td>0.478772</td>\n",
       "    </tr>\n",
       "    <tr>\n",
       "      <th>2764</th>\n",
       "      <td>zero</td>\n",
       "      <td>0.372724</td>\n",
       "    </tr>\n",
       "  </tbody>\n",
       "</table>\n",
       "<p>2765 rows × 2 columns</p>\n",
       "</div>"
      ],
      "text/plain": [
       "            word  word_count\n",
       "0          aaron    4.532495\n",
       "1        abiquiu    0.130565\n",
       "2           able    1.074309\n",
       "3          about   17.921386\n",
       "4          above    0.744759\n",
       "5            abq    2.441773\n",
       "6     absolutely    2.877208\n",
       "7         accept    0.139207\n",
       "8       accepted    0.456413\n",
       "9        accepts    0.527957\n",
       "10      accident    0.541942\n",
       "11       account    0.401849\n",
       "12    accounting    0.225542\n",
       "13      accurate    0.656306\n",
       "14      achieved    0.375073\n",
       "15        across    0.539594\n",
       "16           act    0.543819\n",
       "17        acting    1.954878\n",
       "18        action    0.532096\n",
       "19       actions    0.778548\n",
       "20        active    0.270077\n",
       "21    activities    0.093854\n",
       "22         actor    2.884239\n",
       "23        actors    0.859791\n",
       "24       actress    0.237215\n",
       "25          acts    0.308140\n",
       "26      actually    4.514292\n",
       "27            ad    0.445042\n",
       "28           add    1.221027\n",
       "29         added    0.560186\n",
       "...          ...         ...\n",
       "2735     writing    1.296251\n",
       "2736     written    1.090067\n",
       "2737       wrong    2.818397\n",
       "2738         wtf    0.391277\n",
       "2739          ww    0.836470\n",
       "2740          ya    0.343749\n",
       "2741        yall    1.561300\n",
       "2742        yeah    0.622950\n",
       "2743        year    1.881780\n",
       "2744       years    5.383525\n",
       "2745      yellow    0.975782\n",
       "2746       yells    0.406333\n",
       "2747         yes    0.849000\n",
       "2748   yesterday    0.978695\n",
       "2749         yet    3.369447\n",
       "2750          yo    1.877015\n",
       "2751        york    0.361494\n",
       "2752         you   27.780189\n",
       "2753        youd    0.239503\n",
       "2754       youll    0.245906\n",
       "2755       young    0.574266\n",
       "2756     younger    0.815797\n",
       "2757        your    8.810253\n",
       "2758       youre    1.628217\n",
       "2759       yours    0.218166\n",
       "2760    yourself    0.310373\n",
       "2761     youtube    1.115891\n",
       "2762       youve    0.737813\n",
       "2763       zebra    0.478772\n",
       "2764        zero    0.372724\n",
       "\n",
       "[2765 rows x 2 columns]"
      ]
     },
     "execution_count": 149,
     "metadata": {},
     "output_type": "execute_result"
    }
   ],
   "source": [
    "train_list"
   ]
  },
  {
   "cell_type": "code",
   "execution_count": 150,
   "metadata": {},
   "outputs": [],
   "source": [
    "# get only the 15 most frequent words\n",
    "top_15 = train_list.sort_values(by='word_count', ascending=False).head(15)"
   ]
  },
  {
   "cell_type": "code",
   "execution_count": 151,
   "metadata": {},
   "outputs": [],
   "source": [
    "# get only the 15 least frequent words\n",
    "bottom_15 = train_list.sort_values(by='word_count').head(15)"
   ]
  },
  {
   "cell_type": "code",
   "execution_count": 152,
   "metadata": {},
   "outputs": [
    {
     "data": {
      "text/plain": [
       "<matplotlib.axes._subplots.AxesSubplot at 0x1a277566d8>"
      ]
     },
     "execution_count": 152,
     "metadata": {},
     "output_type": "execute_result"
    },
    {
     "data": {
      "image/png": "[encoded data removed]",
      "text/plain": [
       "<Figure size 432x288 with 1 Axes>"
      ]
     },
     "metadata": {
      "needs_background": "light"
     },
     "output_type": "display_data"
    }
   ],
   "source": [
    "sns.barplot('word_count', 'word', data=top_15, orient='h')"
   ]
  },
  {
   "cell_type": "code",
   "execution_count": null,
   "metadata": {},
   "outputs": [],
   "source": []
  },
  {
   "cell_type": "markdown",
   "metadata": {},
   "source": [
    "# cvec using KNN"
   ]
  },
  {
   "cell_type": "code",
   "execution_count": 153,
   "metadata": {},
   "outputs": [],
   "source": [
    "# pipeline\n",
    "\n",
    "pipe = Pipeline([\n",
    "    ('cvec', CountVectorizer()),\n",
    "    ('knn', KNeighborsClassifier())\n",
    "])"
   ]
  },
  {
   "cell_type": "code",
   "execution_count": 154,
   "metadata": {},
   "outputs": [
    {
     "data": {
      "text/plain": [
       "0.6297297297297297"
      ]
     },
     "execution_count": 154,
     "metadata": {},
     "output_type": "execute_result"
    }
   ],
   "source": [
    "# evaluate on unseen data\n",
    "cross_val_score(pipe, X_train, y_train, cv=5).mean()"
   ]
  },
  {
   "cell_type": "code",
   "execution_count": 155,
   "metadata": {},
   "outputs": [
    {
     "name": "stdout",
     "output_type": "stream",
     "text": [
      "0.7081081081081081\n"
     ]
    },
    {
     "data": {
      "text/plain": [
       "{'cvec__max_df': 0.9,\n",
       " 'cvec__max_features': 3000,\n",
       " 'cvec__min_df': 3,\n",
       " 'cvec__ngram_range': (1, 1),\n",
       " 'cvec__stop_words': 'english',\n",
       " 'knn__metric': 'euclidean',\n",
       " 'knn__n_neighbors': 3,\n",
       " 'knn__weights': 'distance'}"
      ]
     },
     "execution_count": 155,
     "metadata": {},
     "output_type": "execute_result"
    }
   ],
   "source": [
    "# gridsearch for best parameters\n",
    "\n",
    "pipe_params = {\n",
    "    'cvec__max_features':[3000, 3500, 4000],\n",
    "    'cvec__min_df':[2, 3],\n",
    "    'cvec__max_df':[.9, .95],\n",
    "    'cvec__ngram_range':[(1,1),(1,2)],\n",
    "    'cvec__stop_words':[None, 'english'],\n",
    "    'knn__n_neighbors': [3, 5, 10, 20],\n",
    "    'knn__weights':['uniform', 'distance'],\n",
    "    'knn__metric':['euclidean', 'manhattan'],\n",
    "}\n",
    "\n",
    "gs = GridSearchCV(pipe, param_grid=pipe_params, cv=5)\n",
    "gs.fit(X_train, y_train)\n",
    "print(gs.best_score_)\n",
    "gs.best_params_"
   ]
  },
  {
   "cell_type": "code",
   "execution_count": 156,
   "metadata": {},
   "outputs": [
    {
     "data": {
      "text/plain": [
       "0.9882882882882883"
      ]
     },
     "execution_count": 156,
     "metadata": {},
     "output_type": "execute_result"
    }
   ],
   "source": [
    "# accuracy score on train data\n",
    "gs.score(X_train, y_train)"
   ]
  },
  {
   "cell_type": "code",
   "execution_count": 157,
   "metadata": {},
   "outputs": [
    {
     "data": {
      "text/plain": [
       "0.7121848739495799"
      ]
     },
     "execution_count": 157,
     "metadata": {},
     "output_type": "execute_result"
    }
   ],
   "source": [
    "# accuracy score on test data\n",
    "gs.score(X_test, y_test)"
   ]
  },
  {
   "cell_type": "markdown",
   "metadata": {},
   "source": [
    "## Fit model with optimal parameters"
   ]
  },
  {
   "cell_type": "code",
   "execution_count": 158,
   "metadata": {},
   "outputs": [],
   "source": [
    "cvec = CountVectorizer(max_df= 0.9,\n",
    " max_features= 3000,\n",
    " min_df= 3,\n",
    " ngram_range= (1, 1),\n",
    " stop_words= 'english')"
   ]
  },
  {
   "cell_type": "code",
   "execution_count": 159,
   "metadata": {},
   "outputs": [],
   "source": [
    "X_train_vec = cvec.fit_transform(X_train)\n",
    "X_test_vec = cvec.transform(X_test)"
   ]
  },
  {
   "cell_type": "code",
   "execution_count": 160,
   "metadata": {},
   "outputs": [],
   "source": [
    "knn = KNeighborsClassifier(\n",
    "    metric='euclidean',\n",
    "    n_neighbors=3,\n",
    "    weights='distance'\n",
    ")"
   ]
  },
  {
   "cell_type": "code",
   "execution_count": 161,
   "metadata": {},
   "outputs": [
    {
     "data": {
      "text/plain": [
       "KNeighborsClassifier(algorithm='auto', leaf_size=30, metric='euclidean',\n",
       "                     metric_params=None, n_jobs=None, n_neighbors=3, p=2,\n",
       "                     weights='distance')"
      ]
     },
     "execution_count": 161,
     "metadata": {},
     "output_type": "execute_result"
    }
   ],
   "source": [
    "knn.fit(X_train_vec, y_train)"
   ]
  },
  {
   "cell_type": "code",
   "execution_count": 162,
   "metadata": {},
   "outputs": [],
   "source": [
    "# get predictions\n",
    "predictions = knn.predict(X_test_vec)"
   ]
  },
  {
   "cell_type": "code",
   "execution_count": 163,
   "metadata": {},
   "outputs": [],
   "source": [
    "# create confusion matrix\n",
    "cm = confusion_matrix(y_test, predictions)"
   ]
  },
  {
   "cell_type": "code",
   "execution_count": 164,
   "metadata": {},
   "outputs": [
    {
     "name": "stdout",
     "output_type": "stream",
     "text": [
      "              precision    recall  f1-score   support\n",
      "\n",
      "           0       0.55      0.79      0.65       160\n",
      "           1       0.87      0.67      0.76       316\n",
      "\n",
      "    accuracy                           0.71       476\n",
      "   macro avg       0.71      0.73      0.70       476\n",
      "weighted avg       0.76      0.71      0.72       476\n",
      "\n"
     ]
    }
   ],
   "source": [
    "# print report\n",
    "print(classification_report(predictions, y_test))"
   ]
  },
  {
   "cell_type": "code",
   "execution_count": 165,
   "metadata": {},
   "outputs": [
    {
     "data": {
      "image/png": "[encoded data removed]",
      "text/plain": [
       "<Figure size 432x288 with 2 Axes>"
      ]
     },
     "metadata": {
      "needs_background": "light"
     },
     "output_type": "display_data"
    }
   ],
   "source": [
    "# adapted from stackoverflow\n",
    "# plot confusion matrix\n",
    "ax= plt.subplot()\n",
    "sns.heatmap(cm, annot=True, ax = ax, cmap='Blues', fmt='g'); #annot=True to annotate cells"
   ]
  },
  {
   "cell_type": "code",
   "execution_count": null,
   "metadata": {},
   "outputs": [],
   "source": []
  }
 ],
 "metadata": {
  "kernelspec": {
   "display_name": "Python 3",
   "language": "python",
   "name": "python3"
  },
  "language_info": {
   "codemirror_mode": {
    "name": "ipython",
    "version": 3
   },
   "file_extension": ".py",
   "mimetype": "text/x-python",
   "name": "python",
   "nbconvert_exporter": "python",
   "pygments_lexer": "ipython3",
   "version": "3.7.3"
  }
 },
 "nbformat": 4,
 "nbformat_minor": 2
}
