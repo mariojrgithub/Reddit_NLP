{
 "cells": [
  {
   "cell_type": "markdown",
   "metadata": {},
   "source": [
    "# tvec and cvec using MultinomialNB"
   ]
  },
  {
   "cell_type": "code",
   "execution_count": 2,
   "metadata": {},
   "outputs": [
    {
     "name": "stderr",
     "output_type": "stream",
     "text": [
      "/Users/mariosanchez/anaconda3/envs/dsi/lib/python3.7/importlib/_bootstrap.py:219: RuntimeWarning: numpy.ufunc size changed, may indicate binary incompatibility. Expected 192 from C header, got 216 from PyObject\n",
      "  return f(*args, **kwds)\n",
      "/Users/mariosanchez/anaconda3/envs/dsi/lib/python3.7/importlib/_bootstrap.py:219: RuntimeWarning: numpy.ufunc size changed, may indicate binary incompatibility. Expected 192 from C header, got 216 from PyObject\n",
      "  return f(*args, **kwds)\n",
      "/Users/mariosanchez/anaconda3/envs/dsi/lib/python3.7/importlib/_bootstrap.py:219: RuntimeWarning: numpy.ufunc size changed, may indicate binary incompatibility. Expected 192 from C header, got 216 from PyObject\n",
      "  return f(*args, **kwds)\n"
     ]
    }
   ],
   "source": [
    "# imports\n",
    "import pandas as pd\n",
    "import numpy as np\n",
    "from sklearn.model_selection import cross_val_score, train_test_split, GridSearchCV"
   ]
  },
  {
   "cell_type": "code",
   "execution_count": 3,
   "metadata": {},
   "outputs": [],
   "source": [
    "from sklearn.feature_extraction.text import CountVectorizer, TfidfVectorizer\n",
    "from sklearn.linear_model import LogisticRegression\n",
    "import json"
   ]
  },
  {
   "cell_type": "code",
   "execution_count": 4,
   "metadata": {},
   "outputs": [],
   "source": [
    "from sklearn.metrics import accuracy_score, confusion_matrix, classification_report"
   ]
  },
  {
   "cell_type": "code",
   "execution_count": 5,
   "metadata": {},
   "outputs": [],
   "source": [
    "from sklearn.pipeline import Pipeline"
   ]
  },
  {
   "cell_type": "code",
   "execution_count": 6,
   "metadata": {},
   "outputs": [],
   "source": [
    "from sklearn.neighbors import KNeighborsClassifier"
   ]
  },
  {
   "cell_type": "code",
   "execution_count": 7,
   "metadata": {},
   "outputs": [],
   "source": [
    "from sklearn.naive_bayes import MultinomialNB"
   ]
  },
  {
   "cell_type": "code",
   "execution_count": 8,
   "metadata": {},
   "outputs": [
    {
     "name": "stderr",
     "output_type": "stream",
     "text": [
      "/Users/mariosanchez/anaconda3/envs/dsi/lib/python3.7/importlib/_bootstrap.py:219: RuntimeWarning: numpy.ufunc size changed, may indicate binary incompatibility. Expected 216, got 192\n",
      "  return f(*args, **kwds)\n",
      "/Users/mariosanchez/anaconda3/envs/dsi/lib/python3.7/importlib/_bootstrap.py:219: RuntimeWarning: numpy.ufunc size changed, may indicate binary incompatibility. Expected 192 from C header, got 216 from PyObject\n",
      "  return f(*args, **kwds)\n"
     ]
    }
   ],
   "source": [
    "import seaborn as sns\n",
    "import matplotlib.pyplot as plt"
   ]
  },
  {
   "cell_type": "code",
   "execution_count": 9,
   "metadata": {},
   "outputs": [],
   "source": [
    "# load df's\n",
    "bb = pd.read_csv('../df_csv/bbfinal.csv')\n",
    "bcs = pd.read_csv('../df_csv/bcsfinal.csv')"
   ]
  },
  {
   "cell_type": "code",
   "execution_count": 10,
   "metadata": {},
   "outputs": [
    {
     "data": {
      "text/html": [
       "<div>\n",
       "<style scoped>\n",
       "    .dataframe tbody tr th:only-of-type {\n",
       "        vertical-align: middle;\n",
       "    }\n",
       "\n",
       "    .dataframe tbody tr th {\n",
       "        vertical-align: top;\n",
       "    }\n",
       "\n",
       "    .dataframe thead th {\n",
       "        text-align: right;\n",
       "    }\n",
       "</style>\n",
       "<table border=\"1\" class=\"dataframe\">\n",
       "  <thead>\n",
       "    <tr style=\"text-align: right;\">\n",
       "      <th></th>\n",
       "      <th>author</th>\n",
       "      <th>created_utc</th>\n",
       "      <th>downs</th>\n",
       "      <th>num_comments</th>\n",
       "      <th>score</th>\n",
       "      <th>selftext</th>\n",
       "      <th>title</th>\n",
       "      <th>ups</th>\n",
       "      <th>subreddit</th>\n",
       "      <th>all_text</th>\n",
       "    </tr>\n",
       "  </thead>\n",
       "  <tbody>\n",
       "    <tr>\n",
       "      <th>0</th>\n",
       "      <td>Ashutosh1947</td>\n",
       "      <td>2019-07-07 12:03:45</td>\n",
       "      <td>0</td>\n",
       "      <td>6</td>\n",
       "      <td>188</td>\n",
       "      <td>NaN</td>\n",
       "      <td>Los pollos shifts towards noodles from chicken</td>\n",
       "      <td>188</td>\n",
       "      <td>1</td>\n",
       "      <td>Los pollos shifts towards noodles from chicken</td>\n",
       "    </tr>\n",
       "    <tr>\n",
       "      <th>1</th>\n",
       "      <td>Rykedan</td>\n",
       "      <td>2019-07-06 17:44:03</td>\n",
       "      <td>0</td>\n",
       "      <td>25</td>\n",
       "      <td>1875</td>\n",
       "      <td>NaN</td>\n",
       "      <td>Pretty cool Thought you guys would appreciated...</td>\n",
       "      <td>1875</td>\n",
       "      <td>1</td>\n",
       "      <td>Pretty cool Thought you guys would appreciated...</td>\n",
       "    </tr>\n",
       "    <tr>\n",
       "      <th>2</th>\n",
       "      <td>Burnnoticelover</td>\n",
       "      <td>2019-07-07 03:01:46</td>\n",
       "      <td>0</td>\n",
       "      <td>17</td>\n",
       "      <td>269</td>\n",
       "      <td>NaN</td>\n",
       "      <td>The ending we got was perfect but it would hav...</td>\n",
       "      <td>269</td>\n",
       "      <td>1</td>\n",
       "      <td>The ending we got was perfect but it would hav...</td>\n",
       "    </tr>\n",
       "    <tr>\n",
       "      <th>3</th>\n",
       "      <td>spillthetea13</td>\n",
       "      <td>2019-07-07 13:24:13</td>\n",
       "      <td>0</td>\n",
       "      <td>2</td>\n",
       "      <td>21</td>\n",
       "      <td>Its like a kitchen nightmare episode but inste...</td>\n",
       "      <td>Breaking bad movie idea</td>\n",
       "      <td>21</td>\n",
       "      <td>1</td>\n",
       "      <td>Breaking bad movie idea Its like a kitchen nig...</td>\n",
       "    </tr>\n",
       "    <tr>\n",
       "      <th>4</th>\n",
       "      <td>pretentiousiscool</td>\n",
       "      <td>2019-07-07 15:50:31</td>\n",
       "      <td>0</td>\n",
       "      <td>0</td>\n",
       "      <td>10</td>\n",
       "      <td>NaN</td>\n",
       "      <td>lmao</td>\n",
       "      <td>10</td>\n",
       "      <td>1</td>\n",
       "      <td>lmao</td>\n",
       "    </tr>\n",
       "  </tbody>\n",
       "</table>\n",
       "</div>"
      ],
      "text/plain": [
       "              author          created_utc  downs  num_comments  score  \\\n",
       "0       Ashutosh1947  2019-07-07 12:03:45      0             6    188   \n",
       "1            Rykedan  2019-07-06 17:44:03      0            25   1875   \n",
       "2    Burnnoticelover  2019-07-07 03:01:46      0            17    269   \n",
       "3      spillthetea13  2019-07-07 13:24:13      0             2     21   \n",
       "4  pretentiousiscool  2019-07-07 15:50:31      0             0     10   \n",
       "\n",
       "                                            selftext  \\\n",
       "0                                                NaN   \n",
       "1                                                NaN   \n",
       "2                                                NaN   \n",
       "3  Its like a kitchen nightmare episode but inste...   \n",
       "4                                                NaN   \n",
       "\n",
       "                                               title   ups  subreddit  \\\n",
       "0     Los pollos shifts towards noodles from chicken   188          1   \n",
       "1  Pretty cool Thought you guys would appreciated...  1875          1   \n",
       "2  The ending we got was perfect but it would hav...   269          1   \n",
       "3                            Breaking bad movie idea    21          1   \n",
       "4                                               lmao    10          1   \n",
       "\n",
       "                                            all_text  \n",
       "0    Los pollos shifts towards noodles from chicken   \n",
       "1  Pretty cool Thought you guys would appreciated...  \n",
       "2  The ending we got was perfect but it would hav...  \n",
       "3  Breaking bad movie idea Its like a kitchen nig...  \n",
       "4                                              lmao   "
      ]
     },
     "execution_count": 10,
     "metadata": {},
     "output_type": "execute_result"
    }
   ],
   "source": [
    "# check head\n",
    "bb.head()"
   ]
  },
  {
   "cell_type": "code",
   "execution_count": 11,
   "metadata": {},
   "outputs": [
    {
     "data": {
      "text/html": [
       "<div>\n",
       "<style scoped>\n",
       "    .dataframe tbody tr th:only-of-type {\n",
       "        vertical-align: middle;\n",
       "    }\n",
       "\n",
       "    .dataframe tbody tr th {\n",
       "        vertical-align: top;\n",
       "    }\n",
       "\n",
       "    .dataframe thead th {\n",
       "        text-align: right;\n",
       "    }\n",
       "</style>\n",
       "<table border=\"1\" class=\"dataframe\">\n",
       "  <thead>\n",
       "    <tr style=\"text-align: right;\">\n",
       "      <th></th>\n",
       "      <th>author</th>\n",
       "      <th>created_utc</th>\n",
       "      <th>downs</th>\n",
       "      <th>num_comments</th>\n",
       "      <th>score</th>\n",
       "      <th>selftext</th>\n",
       "      <th>title</th>\n",
       "      <th>ups</th>\n",
       "      <th>subreddit</th>\n",
       "      <th>all_text</th>\n",
       "    </tr>\n",
       "  </thead>\n",
       "  <tbody>\n",
       "    <tr>\n",
       "      <th>0</th>\n",
       "      <td>skinkbaa</td>\n",
       "      <td>2018-11-11 07:52:32</td>\n",
       "      <td>0</td>\n",
       "      <td>251</td>\n",
       "      <td>296</td>\n",
       "      <td>A few people requested this thread    Feel fre...</td>\n",
       "      <td>Breaking Bad Movie   Prediction Thread</td>\n",
       "      <td>296</td>\n",
       "      <td>0</td>\n",
       "      <td>Breaking Bad Movie   Prediction Thread A few p...</td>\n",
       "    </tr>\n",
       "    <tr>\n",
       "      <th>1</th>\n",
       "      <td>skinkbaa</td>\n",
       "      <td>2019-05-05 22:23:21</td>\n",
       "      <td>0</td>\n",
       "      <td>98</td>\n",
       "      <td>88</td>\n",
       "      <td>What do you think will happen next season Feel...</td>\n",
       "      <td>Better Call Saul Season 5   Official Predictio...</td>\n",
       "      <td>88</td>\n",
       "      <td>0</td>\n",
       "      <td>Better Call Saul Season 5   Official Predictio...</td>\n",
       "    </tr>\n",
       "    <tr>\n",
       "      <th>2</th>\n",
       "      <td>snarfje</td>\n",
       "      <td>2019-07-07 09:20:38</td>\n",
       "      <td>0</td>\n",
       "      <td>36</td>\n",
       "      <td>944</td>\n",
       "      <td>NaN</td>\n",
       "      <td>Saw this gentlemen on a  foodtruck festival  i...</td>\n",
       "      <td>944</td>\n",
       "      <td>0</td>\n",
       "      <td>Saw this gentlemen on a  foodtruck festival  i...</td>\n",
       "    </tr>\n",
       "    <tr>\n",
       "      <th>3</th>\n",
       "      <td>RrentTreznor</td>\n",
       "      <td>2019-07-06 21:50:07</td>\n",
       "      <td>0</td>\n",
       "      <td>35</td>\n",
       "      <td>404</td>\n",
       "      <td>NaN</td>\n",
       "      <td>Cherished family heirloom finally has made its...</td>\n",
       "      <td>404</td>\n",
       "      <td>0</td>\n",
       "      <td>Cherished family heirloom finally has made its...</td>\n",
       "    </tr>\n",
       "    <tr>\n",
       "      <th>4</th>\n",
       "      <td>Ashutosh1947</td>\n",
       "      <td>2019-07-07 16:12:49</td>\n",
       "      <td>0</td>\n",
       "      <td>0</td>\n",
       "      <td>1</td>\n",
       "      <td>NaN</td>\n",
       "      <td>Oc</td>\n",
       "      <td>1</td>\n",
       "      <td>0</td>\n",
       "      <td>Oc</td>\n",
       "    </tr>\n",
       "  </tbody>\n",
       "</table>\n",
       "</div>"
      ],
      "text/plain": [
       "         author          created_utc  downs  num_comments  score  \\\n",
       "0      skinkbaa  2018-11-11 07:52:32      0           251    296   \n",
       "1      skinkbaa  2019-05-05 22:23:21      0            98     88   \n",
       "2       snarfje  2019-07-07 09:20:38      0            36    944   \n",
       "3  RrentTreznor  2019-07-06 21:50:07      0            35    404   \n",
       "4  Ashutosh1947  2019-07-07 16:12:49      0             0      1   \n",
       "\n",
       "                                            selftext  \\\n",
       "0  A few people requested this thread    Feel fre...   \n",
       "1  What do you think will happen next season Feel...   \n",
       "2                                                NaN   \n",
       "3                                                NaN   \n",
       "4                                                NaN   \n",
       "\n",
       "                                               title  ups  subreddit  \\\n",
       "0             Breaking Bad Movie   Prediction Thread  296          0   \n",
       "1  Better Call Saul Season 5   Official Predictio...   88          0   \n",
       "2  Saw this gentlemen on a  foodtruck festival  i...  944          0   \n",
       "3  Cherished family heirloom finally has made its...  404          0   \n",
       "4                                                 Oc    1          0   \n",
       "\n",
       "                                            all_text  \n",
       "0  Breaking Bad Movie   Prediction Thread A few p...  \n",
       "1  Better Call Saul Season 5   Official Predictio...  \n",
       "2  Saw this gentlemen on a  foodtruck festival  i...  \n",
       "3  Cherished family heirloom finally has made its...  \n",
       "4                                                Oc   "
      ]
     },
     "execution_count": 11,
     "metadata": {},
     "output_type": "execute_result"
    }
   ],
   "source": [
    "# check head\n",
    "bcs.head()"
   ]
  },
  {
   "cell_type": "code",
   "execution_count": 12,
   "metadata": {},
   "outputs": [],
   "source": [
    "# combine df's into one large one\n",
    "data = pd.concat(objs=[bcs[['all_text', 'subreddit', 'num_comments', 'score']], bb[['all_text', 'subreddit', 'num_comments', 'score']]], ignore_index=True)"
   ]
  },
  {
   "cell_type": "code",
   "execution_count": 13,
   "metadata": {},
   "outputs": [
    {
     "data": {
      "text/plain": [
       "1    0.513871\n",
       "0    0.486129\n",
       "Name: subreddit, dtype: float64"
      ]
     },
     "execution_count": 13,
     "metadata": {},
     "output_type": "execute_result"
    }
   ],
   "source": [
    "# check number of 1's and 0's in target\n",
    "data['subreddit'].value_counts(normalize=True)"
   ]
  },
  {
   "cell_type": "code",
   "execution_count": 14,
   "metadata": {},
   "outputs": [
    {
     "data": {
      "text/plain": [
       "<matplotlib.axes._subplots.AxesSubplot at 0x109e58438>"
      ]
     },
     "execution_count": 14,
     "metadata": {},
     "output_type": "execute_result"
    },
    {
     "data": {
      "image/png": "[encoded data removed]",
      "text/plain": [
       "<Figure size 432x288 with 1 Axes>"
      ]
     },
     "metadata": {
      "needs_background": "light"
     },
     "output_type": "display_data"
    }
   ],
   "source": [
    "# dist of 1's and 0's\n",
    "sns.distplot(data['subreddit'])"
   ]
  },
  {
   "cell_type": "code",
   "execution_count": 15,
   "metadata": {},
   "outputs": [],
   "source": [
    "# remove numbers from text\n",
    "data['all_text'] = data['all_text'].str.replace('\\d+', '')"
   ]
  },
  {
   "cell_type": "code",
   "execution_count": 16,
   "metadata": {},
   "outputs": [],
   "source": [
    "from nltk.corpus import stopwords"
   ]
  },
  {
   "cell_type": "code",
   "execution_count": 17,
   "metadata": {},
   "outputs": [],
   "source": [
    "stops = set(stopwords.words('english'))"
   ]
  },
  {
   "cell_type": "code",
   "execution_count": 18,
   "metadata": {},
   "outputs": [],
   "source": [
    "# set X and y variables\n",
    "X = data['all_text']\n",
    "y = data['subreddit']"
   ]
  },
  {
   "cell_type": "code",
   "execution_count": 19,
   "metadata": {},
   "outputs": [],
   "source": [
    "# train test split\n",
    "X_train, X_test, y_train, y_test = train_test_split(X, y, stratify=y, test_size=0.3, random_state=42)"
   ]
  },
  {
   "cell_type": "code",
   "execution_count": 20,
   "metadata": {},
   "outputs": [],
   "source": [
    "# pipeline\n",
    "\n",
    "pipe = Pipeline([\n",
    "    ('tvec', TfidfVectorizer()),\n",
    "    ('nb', MultinomialNB())\n",
    "])"
   ]
  },
  {
   "cell_type": "code",
   "execution_count": 21,
   "metadata": {},
   "outputs": [
    {
     "data": {
      "text/plain": [
       "0.7837837837837837"
      ]
     },
     "execution_count": 21,
     "metadata": {},
     "output_type": "execute_result"
    }
   ],
   "source": [
    "# evaluate on unseen data\n",
    "cross_val_score(pipe, X_train, y_train, cv=5).mean()"
   ]
  },
  {
   "cell_type": "code",
   "execution_count": 22,
   "metadata": {},
   "outputs": [
    {
     "name": "stdout",
     "output_type": "stream",
     "text": [
      "0.790990990990991\n"
     ]
    },
    {
     "data": {
      "text/plain": [
       "{'tvec__max_df': 0.9,\n",
       " 'tvec__max_features': 3000,\n",
       " 'tvec__min_df': 2,\n",
       " 'tvec__ngram_range': (1, 2),\n",
       " 'tvec__stop_words': 'english'}"
      ]
     },
     "execution_count": 22,
     "metadata": {},
     "output_type": "execute_result"
    }
   ],
   "source": [
    "# gridsearch for best parameters\n",
    "\n",
    "pipe_params = {\n",
    "    'tvec__max_features':[3000, 3500, 4000],\n",
    "    'tvec__min_df':[2, 3],\n",
    "    'tvec__max_df':[.9, .95],\n",
    "    'tvec__ngram_range':[(1,1),(1,2)],\n",
    "    'tvec__stop_words':[None, 'english'],\n",
    "}\n",
    "\n",
    "gs = GridSearchCV(pipe, param_grid=pipe_params, cv=5)\n",
    "gs.fit(X_train, y_train)\n",
    "print(gs.best_score_)\n",
    "gs.best_params_"
   ]
  },
  {
   "cell_type": "code",
   "execution_count": 23,
   "metadata": {},
   "outputs": [
    {
     "data": {
      "text/plain": [
       "0.9405405405405406"
      ]
     },
     "execution_count": 23,
     "metadata": {},
     "output_type": "execute_result"
    }
   ],
   "source": [
    "# accuracy score on train data\n",
    "gs.score(X_train, y_train)"
   ]
  },
  {
   "cell_type": "code",
   "execution_count": 24,
   "metadata": {},
   "outputs": [
    {
     "data": {
      "text/plain": [
       "0.7857142857142857"
      ]
     },
     "execution_count": 24,
     "metadata": {},
     "output_type": "execute_result"
    }
   ],
   "source": [
    "# accuracy score on test data\n",
    "gs.score(X_test, y_test)"
   ]
  },
  {
   "cell_type": "markdown",
   "metadata": {},
   "source": [
    "## Fit model with optimal parameters"
   ]
  },
  {
   "cell_type": "code",
   "execution_count": 25,
   "metadata": {},
   "outputs": [],
   "source": [
    "tvec = TfidfVectorizer(max_df= 0.9,\n",
    " max_features= 3000,\n",
    " min_df= 2,\n",
    " ngram_range= (1, 2),\n",
    " stop_words= 'english')"
   ]
  },
  {
   "cell_type": "code",
   "execution_count": 26,
   "metadata": {},
   "outputs": [],
   "source": [
    "X_train_vec = tvec.fit_transform(X_train)\n",
    "X_test_vec = tvec.transform(X_test)"
   ]
  },
  {
   "cell_type": "code",
   "execution_count": 27,
   "metadata": {},
   "outputs": [],
   "source": [
    "nb = MultinomialNB()"
   ]
  },
  {
   "cell_type": "code",
   "execution_count": 28,
   "metadata": {},
   "outputs": [
    {
     "data": {
      "text/plain": [
       "MultinomialNB(alpha=1.0, class_prior=None, fit_prior=True)"
      ]
     },
     "execution_count": 28,
     "metadata": {},
     "output_type": "execute_result"
    }
   ],
   "source": [
    "nb.fit(X_train_vec, y_train)"
   ]
  },
  {
   "cell_type": "code",
   "execution_count": 29,
   "metadata": {},
   "outputs": [],
   "source": [
    "# get predictions\n",
    "predictions = nb.predict(X_test_vec)"
   ]
  },
  {
   "cell_type": "code",
   "execution_count": 30,
   "metadata": {},
   "outputs": [],
   "source": [
    "# create confusion matrix\n",
    "cm = confusion_matrix(y_test, predictions)"
   ]
  },
  {
   "cell_type": "code",
   "execution_count": 31,
   "metadata": {},
   "outputs": [
    {
     "name": "stdout",
     "output_type": "stream",
     "text": [
      "              precision    recall  f1-score   support\n",
      "\n",
      "           0       0.74      0.80      0.77       215\n",
      "           1       0.82      0.77      0.80       261\n",
      "\n",
      "    accuracy                           0.79       476\n",
      "   macro avg       0.78      0.79      0.78       476\n",
      "weighted avg       0.79      0.79      0.79       476\n",
      "\n"
     ]
    }
   ],
   "source": [
    "# print report\n",
    "print(classification_report(predictions, y_test))"
   ]
  },
  {
   "cell_type": "code",
   "execution_count": 32,
   "metadata": {},
   "outputs": [
    {
     "data": {
      "image/png": "[encoded data removed]",
      "text/plain": [
       "<Figure size 432x288 with 2 Axes>"
      ]
     },
     "metadata": {
      "needs_background": "light"
     },
     "output_type": "display_data"
    }
   ],
   "source": [
    "# adapted from stackoverflow\n",
    "# plot confusion matrix\n",
    "ax= plt.subplot()\n",
    "sns.heatmap(cm, annot=True, ax = ax, cmap='Blues', fmt='g'); #annot=True to annotate cells"
   ]
  },
  {
   "cell_type": "code",
   "execution_count": 33,
   "metadata": {},
   "outputs": [],
   "source": [
    "# create a list of word counts to plot\n",
    "train_list = list(zip(tvec.get_feature_names(), X_train_vec.toarray().sum(axis=0)))"
   ]
  },
  {
   "cell_type": "code",
   "execution_count": 34,
   "metadata": {},
   "outputs": [],
   "source": [
    "# convert to dataframe\n",
    "train_list = pd.DataFrame(train_list, columns=['word', 'word_count'])"
   ]
  },
  {
   "cell_type": "code",
   "execution_count": 60,
   "metadata": {},
   "outputs": [],
   "source": [
    "# create a list of coefficients\n",
    "coef_list = list(zip(cvec.get_feature_names(), np.exp(nb.coef_).mean(axis=0)))"
   ]
  },
  {
   "cell_type": "code",
   "execution_count": 61,
   "metadata": {},
   "outputs": [],
   "source": [
    "# convert to dataframe\n",
    "coef_list = pd.DataFrame(coef_list, columns=['word', 'coeffs'])"
   ]
  },
  {
   "cell_type": "code",
   "execution_count": 63,
   "metadata": {},
   "outputs": [],
   "source": [
    "# get only the 15 highest coefficients\n",
    "coef_top_15 = coef_list.sort_values(by='coeffs', ascending=False).head(15)"
   ]
  },
  {
   "cell_type": "code",
   "execution_count": 35,
   "metadata": {
    "collapsed": true
   },
   "outputs": [
    {
     "data": {
      "text/html": [
       "<div>\n",
       "<style scoped>\n",
       "    .dataframe tbody tr th:only-of-type {\n",
       "        vertical-align: middle;\n",
       "    }\n",
       "\n",
       "    .dataframe tbody tr th {\n",
       "        vertical-align: top;\n",
       "    }\n",
       "\n",
       "    .dataframe thead th {\n",
       "        text-align: right;\n",
       "    }\n",
       "</style>\n",
       "<table border=\"1\" class=\"dataframe\">\n",
       "  <thead>\n",
       "    <tr style=\"text-align: right;\">\n",
       "      <th></th>\n",
       "      <th>word</th>\n",
       "      <th>word_count</th>\n",
       "    </tr>\n",
       "  </thead>\n",
       "  <tbody>\n",
       "    <tr>\n",
       "      <th>0</th>\n",
       "      <td>aaron</td>\n",
       "      <td>4.158151</td>\n",
       "    </tr>\n",
       "    <tr>\n",
       "      <th>1</th>\n",
       "      <td>aaron paul</td>\n",
       "      <td>3.227752</td>\n",
       "    </tr>\n",
       "    <tr>\n",
       "      <th>2</th>\n",
       "      <td>aaron pauls</td>\n",
       "      <td>0.724010</td>\n",
       "    </tr>\n",
       "    <tr>\n",
       "      <th>3</th>\n",
       "      <td>abiquiu</td>\n",
       "      <td>0.157551</td>\n",
       "    </tr>\n",
       "    <tr>\n",
       "      <th>4</th>\n",
       "      <td>able</td>\n",
       "      <td>1.347700</td>\n",
       "    </tr>\n",
       "    <tr>\n",
       "      <th>5</th>\n",
       "      <td>abq</td>\n",
       "      <td>2.514979</td>\n",
       "    </tr>\n",
       "    <tr>\n",
       "      <th>6</th>\n",
       "      <td>absolutely</td>\n",
       "      <td>2.908041</td>\n",
       "    </tr>\n",
       "    <tr>\n",
       "      <th>7</th>\n",
       "      <td>absolutely love</td>\n",
       "      <td>1.133049</td>\n",
       "    </tr>\n",
       "    <tr>\n",
       "      <th>8</th>\n",
       "      <td>absolutely loved</td>\n",
       "      <td>0.427041</td>\n",
       "    </tr>\n",
       "    <tr>\n",
       "      <th>9</th>\n",
       "      <td>accept</td>\n",
       "      <td>0.182969</td>\n",
       "    </tr>\n",
       "    <tr>\n",
       "      <th>10</th>\n",
       "      <td>accepted</td>\n",
       "      <td>0.518897</td>\n",
       "    </tr>\n",
       "    <tr>\n",
       "      <th>11</th>\n",
       "      <td>accepts</td>\n",
       "      <td>0.540262</td>\n",
       "    </tr>\n",
       "    <tr>\n",
       "      <th>12</th>\n",
       "      <td>accident</td>\n",
       "      <td>0.635912</td>\n",
       "    </tr>\n",
       "    <tr>\n",
       "      <th>13</th>\n",
       "      <td>account</td>\n",
       "      <td>0.537104</td>\n",
       "    </tr>\n",
       "    <tr>\n",
       "      <th>14</th>\n",
       "      <td>accounting</td>\n",
       "      <td>0.278857</td>\n",
       "    </tr>\n",
       "    <tr>\n",
       "      <th>15</th>\n",
       "      <td>accurate</td>\n",
       "      <td>0.777301</td>\n",
       "    </tr>\n",
       "    <tr>\n",
       "      <th>16</th>\n",
       "      <td>accurate portrayal</td>\n",
       "      <td>0.495408</td>\n",
       "    </tr>\n",
       "    <tr>\n",
       "      <th>17</th>\n",
       "      <td>achieved</td>\n",
       "      <td>0.427425</td>\n",
       "    </tr>\n",
       "    <tr>\n",
       "      <th>18</th>\n",
       "      <td>act</td>\n",
       "      <td>0.750320</td>\n",
       "    </tr>\n",
       "    <tr>\n",
       "      <th>19</th>\n",
       "      <td>acting</td>\n",
       "      <td>2.435392</td>\n",
       "    </tr>\n",
       "    <tr>\n",
       "      <th>20</th>\n",
       "      <td>action</td>\n",
       "      <td>0.663647</td>\n",
       "    </tr>\n",
       "    <tr>\n",
       "      <th>21</th>\n",
       "      <td>actions</td>\n",
       "      <td>0.950909</td>\n",
       "    </tr>\n",
       "    <tr>\n",
       "      <th>22</th>\n",
       "      <td>active</td>\n",
       "      <td>0.336576</td>\n",
       "    </tr>\n",
       "    <tr>\n",
       "      <th>23</th>\n",
       "      <td>activities</td>\n",
       "      <td>0.125618</td>\n",
       "    </tr>\n",
       "    <tr>\n",
       "      <th>24</th>\n",
       "      <td>actor</td>\n",
       "      <td>2.968252</td>\n",
       "    </tr>\n",
       "    <tr>\n",
       "      <th>25</th>\n",
       "      <td>actors</td>\n",
       "      <td>0.952232</td>\n",
       "    </tr>\n",
       "    <tr>\n",
       "      <th>26</th>\n",
       "      <td>actors ive</td>\n",
       "      <td>0.331119</td>\n",
       "    </tr>\n",
       "    <tr>\n",
       "      <th>27</th>\n",
       "      <td>actress</td>\n",
       "      <td>0.312816</td>\n",
       "    </tr>\n",
       "    <tr>\n",
       "      <th>28</th>\n",
       "      <td>acts</td>\n",
       "      <td>0.377839</td>\n",
       "    </tr>\n",
       "    <tr>\n",
       "      <th>29</th>\n",
       "      <td>acts like</td>\n",
       "      <td>0.310037</td>\n",
       "    </tr>\n",
       "    <tr>\n",
       "      <th>...</th>\n",
       "      <td>...</td>\n",
       "      <td>...</td>\n",
       "    </tr>\n",
       "    <tr>\n",
       "      <th>2970</th>\n",
       "      <td>written</td>\n",
       "      <td>1.352508</td>\n",
       "    </tr>\n",
       "    <tr>\n",
       "      <th>2971</th>\n",
       "      <td>wrong</td>\n",
       "      <td>3.606906</td>\n",
       "    </tr>\n",
       "    <tr>\n",
       "      <th>2972</th>\n",
       "      <td>wtf</td>\n",
       "      <td>0.427637</td>\n",
       "    </tr>\n",
       "    <tr>\n",
       "      <th>2973</th>\n",
       "      <td>ww</td>\n",
       "      <td>1.024832</td>\n",
       "    </tr>\n",
       "    <tr>\n",
       "      <th>2974</th>\n",
       "      <td>ya</td>\n",
       "      <td>0.414012</td>\n",
       "    </tr>\n",
       "    <tr>\n",
       "      <th>2975</th>\n",
       "      <td>yall</td>\n",
       "      <td>1.639142</td>\n",
       "    </tr>\n",
       "    <tr>\n",
       "      <th>2976</th>\n",
       "      <td>yall just</td>\n",
       "      <td>0.388063</td>\n",
       "    </tr>\n",
       "    <tr>\n",
       "      <th>2977</th>\n",
       "      <td>yall think</td>\n",
       "      <td>0.390847</td>\n",
       "    </tr>\n",
       "    <tr>\n",
       "      <th>2978</th>\n",
       "      <td>yeah</td>\n",
       "      <td>0.728124</td>\n",
       "    </tr>\n",
       "    <tr>\n",
       "      <th>2979</th>\n",
       "      <td>year</td>\n",
       "      <td>2.269815</td>\n",
       "    </tr>\n",
       "    <tr>\n",
       "      <th>2980</th>\n",
       "      <td>years</td>\n",
       "      <td>5.911729</td>\n",
       "    </tr>\n",
       "    <tr>\n",
       "      <th>2981</th>\n",
       "      <td>years ago</td>\n",
       "      <td>3.328875</td>\n",
       "    </tr>\n",
       "    <tr>\n",
       "      <th>2982</th>\n",
       "      <td>years later</td>\n",
       "      <td>0.872783</td>\n",
       "    </tr>\n",
       "    <tr>\n",
       "      <th>2983</th>\n",
       "      <td>years theres</td>\n",
       "      <td>0.344622</td>\n",
       "    </tr>\n",
       "    <tr>\n",
       "      <th>2984</th>\n",
       "      <td>yellow</td>\n",
       "      <td>1.070036</td>\n",
       "    </tr>\n",
       "    <tr>\n",
       "      <th>2985</th>\n",
       "      <td>yells</td>\n",
       "      <td>0.494718</td>\n",
       "    </tr>\n",
       "    <tr>\n",
       "      <th>2986</th>\n",
       "      <td>yes</td>\n",
       "      <td>0.949279</td>\n",
       "    </tr>\n",
       "    <tr>\n",
       "      <th>2987</th>\n",
       "      <td>yesterday</td>\n",
       "      <td>0.974886</td>\n",
       "    </tr>\n",
       "    <tr>\n",
       "      <th>2988</th>\n",
       "      <td>yo</td>\n",
       "      <td>2.121647</td>\n",
       "    </tr>\n",
       "    <tr>\n",
       "      <th>2989</th>\n",
       "      <td>york</td>\n",
       "      <td>0.390810</td>\n",
       "    </tr>\n",
       "    <tr>\n",
       "      <th>2990</th>\n",
       "      <td>youd</td>\n",
       "      <td>0.286558</td>\n",
       "    </tr>\n",
       "    <tr>\n",
       "      <th>2991</th>\n",
       "      <td>youll</td>\n",
       "      <td>0.376055</td>\n",
       "    </tr>\n",
       "    <tr>\n",
       "      <th>2992</th>\n",
       "      <td>young</td>\n",
       "      <td>0.674127</td>\n",
       "    </tr>\n",
       "    <tr>\n",
       "      <th>2993</th>\n",
       "      <td>younger</td>\n",
       "      <td>0.939663</td>\n",
       "    </tr>\n",
       "    <tr>\n",
       "      <th>2994</th>\n",
       "      <td>youre</td>\n",
       "      <td>2.000307</td>\n",
       "    </tr>\n",
       "    <tr>\n",
       "      <th>2995</th>\n",
       "      <td>youtube</td>\n",
       "      <td>1.223490</td>\n",
       "    </tr>\n",
       "    <tr>\n",
       "      <th>2996</th>\n",
       "      <td>youve</td>\n",
       "      <td>0.676293</td>\n",
       "    </tr>\n",
       "    <tr>\n",
       "      <th>2997</th>\n",
       "      <td>zebra</td>\n",
       "      <td>0.496416</td>\n",
       "    </tr>\n",
       "    <tr>\n",
       "      <th>2998</th>\n",
       "      <td>zebra associates</td>\n",
       "      <td>0.277744</td>\n",
       "    </tr>\n",
       "    <tr>\n",
       "      <th>2999</th>\n",
       "      <td>zero</td>\n",
       "      <td>0.445185</td>\n",
       "    </tr>\n",
       "  </tbody>\n",
       "</table>\n",
       "<p>3000 rows × 2 columns</p>\n",
       "</div>"
      ],
      "text/plain": [
       "                    word  word_count\n",
       "0                  aaron    4.158151\n",
       "1             aaron paul    3.227752\n",
       "2            aaron pauls    0.724010\n",
       "3                abiquiu    0.157551\n",
       "4                   able    1.347700\n",
       "5                    abq    2.514979\n",
       "6             absolutely    2.908041\n",
       "7        absolutely love    1.133049\n",
       "8       absolutely loved    0.427041\n",
       "9                 accept    0.182969\n",
       "10              accepted    0.518897\n",
       "11               accepts    0.540262\n",
       "12              accident    0.635912\n",
       "13               account    0.537104\n",
       "14            accounting    0.278857\n",
       "15              accurate    0.777301\n",
       "16    accurate portrayal    0.495408\n",
       "17              achieved    0.427425\n",
       "18                   act    0.750320\n",
       "19                acting    2.435392\n",
       "20                action    0.663647\n",
       "21               actions    0.950909\n",
       "22                active    0.336576\n",
       "23            activities    0.125618\n",
       "24                 actor    2.968252\n",
       "25                actors    0.952232\n",
       "26            actors ive    0.331119\n",
       "27               actress    0.312816\n",
       "28                  acts    0.377839\n",
       "29             acts like    0.310037\n",
       "...                  ...         ...\n",
       "2970             written    1.352508\n",
       "2971               wrong    3.606906\n",
       "2972                 wtf    0.427637\n",
       "2973                  ww    1.024832\n",
       "2974                  ya    0.414012\n",
       "2975                yall    1.639142\n",
       "2976           yall just    0.388063\n",
       "2977          yall think    0.390847\n",
       "2978                yeah    0.728124\n",
       "2979                year    2.269815\n",
       "2980               years    5.911729\n",
       "2981           years ago    3.328875\n",
       "2982         years later    0.872783\n",
       "2983        years theres    0.344622\n",
       "2984              yellow    1.070036\n",
       "2985               yells    0.494718\n",
       "2986                 yes    0.949279\n",
       "2987           yesterday    0.974886\n",
       "2988                  yo    2.121647\n",
       "2989                york    0.390810\n",
       "2990                youd    0.286558\n",
       "2991               youll    0.376055\n",
       "2992               young    0.674127\n",
       "2993             younger    0.939663\n",
       "2994               youre    2.000307\n",
       "2995             youtube    1.223490\n",
       "2996               youve    0.676293\n",
       "2997               zebra    0.496416\n",
       "2998    zebra associates    0.277744\n",
       "2999                zero    0.445185\n",
       "\n",
       "[3000 rows x 2 columns]"
      ]
     },
     "execution_count": 35,
     "metadata": {},
     "output_type": "execute_result"
    }
   ],
   "source": [
    "train_list"
   ]
  },
  {
   "cell_type": "code",
   "execution_count": 36,
   "metadata": {},
   "outputs": [],
   "source": [
    "# get only the 15 most frequent words\n",
    "top_15 = train_list.sort_values(by='word_count', ascending=False).head(15)"
   ]
  },
  {
   "cell_type": "code",
   "execution_count": 37,
   "metadata": {},
   "outputs": [],
   "source": [
    "# get only the 15 least frequent words\n",
    "bottom_15 = train_list.sort_values(by='word_count').head(15)"
   ]
  },
  {
   "cell_type": "code",
   "execution_count": 38,
   "metadata": {},
   "outputs": [
    {
     "data": {
      "text/plain": [
       "<matplotlib.axes._subplots.AxesSubplot at 0x1a18ecc080>"
      ]
     },
     "execution_count": 38,
     "metadata": {},
     "output_type": "execute_result"
    },
    {
     "data": {
      "image/png": "[encoded data removed]",
      "text/plain": [
       "<Figure size 432x288 with 1 Axes>"
      ]
     },
     "metadata": {
      "needs_background": "light"
     },
     "output_type": "display_data"
    }
   ],
   "source": [
    "sns.barplot('word_count', 'word', data=top_15, orient='h')"
   ]
  },
  {
   "cell_type": "code",
   "execution_count": 64,
   "metadata": {},
   "outputs": [
    {
     "data": {
      "text/plain": [
       "<matplotlib.axes._subplots.AxesSubplot at 0x1a189924e0>"
      ]
     },
     "execution_count": 64,
     "metadata": {},
     "output_type": "execute_result"
    },
    {
     "data": {
      "image/png": "[encoded data removed]",
      "text/plain": [
       "<Figure size 432x288 with 1 Axes>"
      ]
     },
     "metadata": {
      "needs_background": "light"
     },
     "output_type": "display_data"
    }
   ],
   "source": [
    "sns.barplot('coeffs', 'word', data=coef_top_15, orient='h')"
   ]
  },
  {
   "cell_type": "markdown",
   "metadata": {},
   "source": [
    "# cvec using MultinomialNB"
   ]
  },
  {
   "cell_type": "code",
   "execution_count": 39,
   "metadata": {},
   "outputs": [],
   "source": [
    "# pipeline\n",
    "\n",
    "pipe = Pipeline([\n",
    "    ('cvec', CountVectorizer()),\n",
    "    ('nb', MultinomialNB())\n",
    "])"
   ]
  },
  {
   "cell_type": "code",
   "execution_count": 40,
   "metadata": {},
   "outputs": [
    {
     "data": {
      "text/plain": [
       "0.7891891891891892"
      ]
     },
     "execution_count": 40,
     "metadata": {},
     "output_type": "execute_result"
    }
   ],
   "source": [
    "# evaluate on unseen data\n",
    "cross_val_score(pipe, X_train, y_train, cv=5).mean()"
   ]
  },
  {
   "cell_type": "code",
   "execution_count": 41,
   "metadata": {},
   "outputs": [
    {
     "name": "stdout",
     "output_type": "stream",
     "text": [
      "0.7936936936936937\n"
     ]
    },
    {
     "data": {
      "text/plain": [
       "{'cvec__max_df': 0.9,\n",
       " 'cvec__max_features': 3000,\n",
       " 'cvec__min_df': 2,\n",
       " 'cvec__ngram_range': (1, 1),\n",
       " 'cvec__stop_words': 'english'}"
      ]
     },
     "execution_count": 41,
     "metadata": {},
     "output_type": "execute_result"
    }
   ],
   "source": [
    "# gridsearch for best parameters\n",
    "\n",
    "pipe_params = {\n",
    "    'cvec__max_features':[3000, 3500, 4000],\n",
    "    'cvec__min_df':[2, 3],\n",
    "    'cvec__max_df':[.9, .95],\n",
    "    'cvec__ngram_range':[(1,1),(1,2)],\n",
    "    'cvec__stop_words':[None, 'english']\n",
    "}\n",
    "\n",
    "gs = GridSearchCV(pipe, param_grid=pipe_params, cv=5)\n",
    "gs.fit(X_train, y_train)\n",
    "print(gs.best_score_)\n",
    "gs.best_params_"
   ]
  },
  {
   "cell_type": "code",
   "execution_count": 42,
   "metadata": {},
   "outputs": [
    {
     "data": {
      "text/plain": [
       "0.8990990990990991"
      ]
     },
     "execution_count": 42,
     "metadata": {},
     "output_type": "execute_result"
    }
   ],
   "source": [
    "# accuracy score on train data\n",
    "gs.score(X_train, y_train)"
   ]
  },
  {
   "cell_type": "code",
   "execution_count": 43,
   "metadata": {},
   "outputs": [
    {
     "data": {
      "text/plain": [
       "0.7415966386554622"
      ]
     },
     "execution_count": 43,
     "metadata": {},
     "output_type": "execute_result"
    }
   ],
   "source": [
    "# accuracy score on test data\n",
    "gs.score(X_test, y_test)"
   ]
  },
  {
   "cell_type": "markdown",
   "metadata": {},
   "source": [
    "## Fit model with optimal parameters"
   ]
  },
  {
   "cell_type": "code",
   "execution_count": 44,
   "metadata": {},
   "outputs": [],
   "source": [
    "cvec = CountVectorizer(max_df= 0.9,\n",
    " max_features= 3000,\n",
    " min_df= 2,\n",
    " ngram_range= (1, 1),\n",
    " stop_words= 'english')"
   ]
  },
  {
   "cell_type": "code",
   "execution_count": 45,
   "metadata": {},
   "outputs": [],
   "source": [
    "X_train_vec = cvec.fit_transform(X_train)\n",
    "X_test_vec = cvec.transform(X_test)"
   ]
  },
  {
   "cell_type": "code",
   "execution_count": 46,
   "metadata": {},
   "outputs": [],
   "source": [
    "nb = MultinomialNB()"
   ]
  },
  {
   "cell_type": "code",
   "execution_count": 47,
   "metadata": {},
   "outputs": [
    {
     "data": {
      "text/plain": [
       "MultinomialNB(alpha=1.0, class_prior=None, fit_prior=True)"
      ]
     },
     "execution_count": 47,
     "metadata": {},
     "output_type": "execute_result"
    }
   ],
   "source": [
    "nb.fit(X_train_vec, y_train)"
   ]
  },
  {
   "cell_type": "code",
   "execution_count": 48,
   "metadata": {},
   "outputs": [],
   "source": [
    "# get predictions\n",
    "predictions = nb.predict(X_test_vec)"
   ]
  },
  {
   "cell_type": "code",
   "execution_count": 49,
   "metadata": {},
   "outputs": [],
   "source": [
    "# create confusion matrix\n",
    "cm = confusion_matrix(y_test, predictions)"
   ]
  },
  {
   "cell_type": "code",
   "execution_count": 50,
   "metadata": {},
   "outputs": [
    {
     "name": "stdout",
     "output_type": "stream",
     "text": [
      "              precision    recall  f1-score   support\n",
      "\n",
      "           0       0.73      0.73      0.73       230\n",
      "           1       0.75      0.75      0.75       246\n",
      "\n",
      "    accuracy                           0.74       476\n",
      "   macro avg       0.74      0.74      0.74       476\n",
      "weighted avg       0.74      0.74      0.74       476\n",
      "\n"
     ]
    }
   ],
   "source": [
    "# print report\n",
    "print(classification_report(predictions, y_test))"
   ]
  },
  {
   "cell_type": "code",
   "execution_count": 51,
   "metadata": {},
   "outputs": [
    {
     "data": {
      "image/png": "[encoded data removed]",
      "text/plain": [
       "<Figure size 432x288 with 2 Axes>"
      ]
     },
     "metadata": {
      "needs_background": "light"
     },
     "output_type": "display_data"
    }
   ],
   "source": [
    "# adapted from stackoverflow\n",
    "# plot confusion matrix\n",
    "ax= plt.subplot()\n",
    "sns.heatmap(cm, annot=True, ax = ax, cmap='Blues', fmt='g'); #annot=True to annotate cells"
   ]
  },
  {
   "cell_type": "code",
   "execution_count": null,
   "metadata": {},
   "outputs": [],
   "source": []
  }
 ],
 "metadata": {
  "kernelspec": {
   "display_name": "Python 3",
   "language": "python",
   "name": "python3"
  },
  "language_info": {
   "codemirror_mode": {
    "name": "ipython",
    "version": 3
   },
   "file_extension": ".py",
   "mimetype": "text/x-python",
   "name": "python",
   "nbconvert_exporter": "python",
   "pygments_lexer": "ipython3",
   "version": "3.7.3"
  }
 },
 "nbformat": 4,
 "nbformat_minor": 2
}
