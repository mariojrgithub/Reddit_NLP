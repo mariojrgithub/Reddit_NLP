{
 "cells": [
  {
   "cell_type": "code",
   "execution_count": 1,
   "metadata": {},
   "outputs": [],
   "source": [
    "# imports\n",
    "import pandas as pd\n",
    "from bs4 import BeautifulSoup"
   ]
  },
  {
   "cell_type": "code",
   "execution_count": 2,
   "metadata": {},
   "outputs": [],
   "source": [
    "import requests\n",
    "import csv"
   ]
  },
  {
   "cell_type": "code",
   "execution_count": 3,
   "metadata": {},
   "outputs": [],
   "source": [
    "import time\n",
    "import json"
   ]
  },
  {
   "cell_type": "code",
   "execution_count": 4,
   "metadata": {},
   "outputs": [],
   "source": [
    "# breaking bad reddit url\n",
    "url = 'https://www.reddit.com/r/breakingbad/.json'"
   ]
  },
  {
   "cell_type": "code",
   "execution_count": 5,
   "metadata": {},
   "outputs": [
    {
     "name": "stdout",
     "output_type": "stream",
     "text": [
      "200\n"
     ]
    }
   ],
   "source": [
    "# set headers \n",
    "headers = {'User-Agent': 'Mozilla/5.0'}\n",
    "\n",
    "# check response of url\n",
    "page = requests.get(url, headers=headers)\n",
    "print(page.status_code)"
   ]
  },
  {
   "cell_type": "code",
   "execution_count": 6,
   "metadata": {},
   "outputs": [],
   "source": [
    "# convert page to json \n",
    "the_json = page.json()"
   ]
  },
  {
   "cell_type": "code",
   "execution_count": 7,
   "metadata": {},
   "outputs": [
    {
     "data": {
      "text/plain": [
       "dict_keys(['kind', 'data'])"
      ]
     },
     "execution_count": 7,
     "metadata": {},
     "output_type": "execute_result"
    }
   ],
   "source": [
    "# check keys\n",
    "the_json.keys()"
   ]
  },
  {
   "cell_type": "code",
   "execution_count": 8,
   "metadata": {},
   "outputs": [
    {
     "data": {
      "text/plain": [
       "'t3_cauxt1'"
      ]
     },
     "execution_count": 8,
     "metadata": {},
     "output_type": "execute_result"
    }
   ],
   "source": [
    "# find last user\n",
    "the_json['data']['after']"
   ]
  },
  {
   "cell_type": "code",
   "execution_count": 9,
   "metadata": {},
   "outputs": [
    {
     "data": {
      "text/plain": [
       "['t3_cb056z',\n",
       " 't3_cap5x8',\n",
       " 't3_cax09s',\n",
       " 't3_cb3whu',\n",
       " 't3_cb47lz',\n",
       " 't3_cb3txf',\n",
       " 't3_canr4o',\n",
       " 't3_cb3dgi',\n",
       " 't3_cb43wv',\n",
       " 't3_cb3vht',\n",
       " 't3_cau3nb',\n",
       " 't3_cb46ro',\n",
       " 't3_cb3m49',\n",
       " 't3_canl2f',\n",
       " 't3_cb0r0i',\n",
       " 't3_cak8oh',\n",
       " 't3_cac4ll',\n",
       " 't3_caua60',\n",
       " 't3_cazjqb',\n",
       " 't3_caomae',\n",
       " 't3_caosz4',\n",
       " 't3_calb8h',\n",
       " 't3_caqj1o',\n",
       " 't3_catjis',\n",
       " 't3_cauxt1']"
      ]
     },
     "execution_count": 9,
     "metadata": {},
     "output_type": "execute_result"
    }
   ],
   "source": [
    "# confirm above\n",
    "[post['data']['name'] for post in the_json['data']['children']]"
   ]
  },
  {
   "cell_type": "code",
   "execution_count": 10,
   "metadata": {},
   "outputs": [],
   "source": [
    "# set params to last post \n",
    "params = {'after':'t3_cauxt1' }"
   ]
  },
  {
   "cell_type": "code",
   "execution_count": 11,
   "metadata": {},
   "outputs": [
    {
     "data": {
      "text/plain": [
       "<Response [200]>"
      ]
     },
     "execution_count": 11,
     "metadata": {},
     "output_type": "execute_result"
    }
   ],
   "source": [
    "# final url response check\n",
    "requests.get(url, params=params, headers=headers)"
   ]
  },
  {
   "cell_type": "code",
   "execution_count": 12,
   "metadata": {},
   "outputs": [
    {
     "name": "stdout",
     "output_type": "stream",
     "text": [
      "0\n",
      "1\n",
      "2\n",
      "3\n",
      "4\n",
      "5\n",
      "6\n",
      "7\n",
      "8\n",
      "9\n",
      "10\n",
      "11\n",
      "12\n",
      "13\n",
      "14\n",
      "15\n",
      "16\n",
      "17\n",
      "18\n",
      "19\n",
      "20\n",
      "21\n",
      "22\n",
      "23\n",
      "24\n",
      "25\n",
      "26\n",
      "27\n",
      "28\n",
      "29\n"
     ]
    }
   ],
   "source": [
    "# loop to scrape posts\n",
    "\n",
    "posts = []\n",
    "after = None\n",
    "\n",
    "for i in range(30):\n",
    "    print(i)\n",
    "    \n",
    "    if after == None:\n",
    "        params = {}\n",
    "    else:\n",
    "        params = {'after':after}\n",
    "    url = 'https://www.reddit.com/r/breakingbad/.json'\n",
    "    res = requests.get(url, params=params, headers=headers)\n",
    "    \n",
    "    if res.status_code == 200:\n",
    "        the_json = res.json()\n",
    "        posts.extend(the_json['data']['children'])\n",
    "        after = the_json['data']['after']\n",
    "    else:\n",
    "        print(res.status_code)\n",
    "        break\n",
    "        \n",
    "    time.sleep(3)\n"
   ]
  },
  {
   "cell_type": "code",
   "execution_count": 13,
   "metadata": {},
   "outputs": [
    {
     "data": {
      "text/plain": [
       "750"
      ]
     },
     "execution_count": 13,
     "metadata": {},
     "output_type": "execute_result"
    }
   ],
   "source": [
    "# check for duplicates\n",
    "len(set([p['data']['name'] for p in posts]))"
   ]
  },
  {
   "cell_type": "code",
   "execution_count": 14,
   "metadata": {},
   "outputs": [],
   "source": [
    "# save to a json file to preserve all information scraped\n",
    "# with open('../json_files/breakingbad_tuesday.json', 'w') as f:\n",
    "#     json.dump(posts , f)"
   ]
  },
  {
   "cell_type": "code",
   "execution_count": 8,
   "metadata": {},
   "outputs": [],
   "source": [
    "# open saved json file for editing\n",
    "# with open(r\"../json_files/breakingbad_tuesday.json\", \"r\") as read_file:\n",
    "#     posts = json.load(read_file)"
   ]
  },
  {
   "cell_type": "code",
   "execution_count": 15,
   "metadata": {},
   "outputs": [],
   "source": [
    "# loop to extract desired data from posts \n",
    "\n",
    "post_info = []\n",
    "\n",
    "i = 0\n",
    "for post in posts:\n",
    "    info = {}\n",
    "    \n",
    "    info['title'] = posts[i]['data']['title']\n",
    "    info['selftext'] = posts[i]['data']['selftext']\n",
    "    info['author'] = posts[i]['data']['author']\n",
    "    info['ups'] = posts[i]['data']['ups']\n",
    "    info['downs'] = posts[i]['data']['downs']\n",
    "    info['score'] = posts[i]['data']['score']\n",
    "    info['num_comments'] = posts[i]['data']['num_comments']\n",
    "    info['created_utc'] = posts[i]['data']['created_utc']\n",
    "    post_info.append(info)\n",
    "    \n",
    "    i += 1\n",
    "\n",
    "# create dataframe\n",
    "post_info_df = pd.DataFrame(post_info)\n"
   ]
  },
  {
   "cell_type": "code",
   "execution_count": 16,
   "metadata": {},
   "outputs": [],
   "source": [
    "import datetime"
   ]
  },
  {
   "cell_type": "code",
   "execution_count": 17,
   "metadata": {},
   "outputs": [],
   "source": [
    "# convert to proper datetime\n",
    "post_info_df['created_utc'] = pd.to_datetime(post_info_df['created_utc'], unit='s')"
   ]
  },
  {
   "cell_type": "code",
   "execution_count": 18,
   "metadata": {},
   "outputs": [
    {
     "data": {
      "text/html": [
       "<div>\n",
       "<style scoped>\n",
       "    .dataframe tbody tr th:only-of-type {\n",
       "        vertical-align: middle;\n",
       "    }\n",
       "\n",
       "    .dataframe tbody tr th {\n",
       "        vertical-align: top;\n",
       "    }\n",
       "\n",
       "    .dataframe thead th {\n",
       "        text-align: right;\n",
       "    }\n",
       "</style>\n",
       "<table border=\"1\" class=\"dataframe\">\n",
       "  <thead>\n",
       "    <tr style=\"text-align: right;\">\n",
       "      <th></th>\n",
       "      <th>author</th>\n",
       "      <th>created_utc</th>\n",
       "      <th>downs</th>\n",
       "      <th>num_comments</th>\n",
       "      <th>score</th>\n",
       "      <th>selftext</th>\n",
       "      <th>title</th>\n",
       "      <th>ups</th>\n",
       "    </tr>\n",
       "  </thead>\n",
       "  <tbody>\n",
       "    <tr>\n",
       "      <th>745</th>\n",
       "      <td>Ronin0206</td>\n",
       "      <td>2019-06-07 17:22:00</td>\n",
       "      <td>0</td>\n",
       "      <td>25</td>\n",
       "      <td>21</td>\n",
       "      <td>Nust finished the show and it may as well be t...</td>\n",
       "      <td>Just finished the show!</td>\n",
       "      <td>21</td>\n",
       "    </tr>\n",
       "    <tr>\n",
       "      <th>746</th>\n",
       "      <td>JK-Network123</td>\n",
       "      <td>2019-06-07 22:49:46</td>\n",
       "      <td>0</td>\n",
       "      <td>11</td>\n",
       "      <td>6</td>\n",
       "      <td>Just curious but say Walter White aka Heisenbe...</td>\n",
       "      <td>How infamous would Walter White be if he was R...</td>\n",
       "      <td>6</td>\n",
       "    </tr>\n",
       "    <tr>\n",
       "      <th>747</th>\n",
       "      <td>SergeantBubbles7</td>\n",
       "      <td>2019-06-07 23:28:37</td>\n",
       "      <td>0</td>\n",
       "      <td>1</td>\n",
       "      <td>4</td>\n",
       "      <td>Do they really live sparsely in reservations o...</td>\n",
       "      <td>Is Breaking Bad’s representation of Native Ame...</td>\n",
       "      <td>4</td>\n",
       "    </tr>\n",
       "    <tr>\n",
       "      <th>748</th>\n",
       "      <td>Nyxeme</td>\n",
       "      <td>2019-06-07 10:20:06</td>\n",
       "      <td>0</td>\n",
       "      <td>9</td>\n",
       "      <td>55</td>\n",
       "      <td>Yesterday my girlfriend and I went out for sus...</td>\n",
       "      <td>I saw Gus Fring yesterday!</td>\n",
       "      <td>55</td>\n",
       "    </tr>\n",
       "    <tr>\n",
       "      <th>749</th>\n",
       "      <td>chad2215</td>\n",
       "      <td>2019-06-07 19:10:40</td>\n",
       "      <td>0</td>\n",
       "      <td>57</td>\n",
       "      <td>10</td>\n",
       "      <td>What’s this guys problem man? So greedy ... co...</td>\n",
       "      <td>Walter is sick in the head man....</td>\n",
       "      <td>10</td>\n",
       "    </tr>\n",
       "  </tbody>\n",
       "</table>\n",
       "</div>"
      ],
      "text/plain": [
       "               author         created_utc  downs  num_comments  score  \\\n",
       "745         Ronin0206 2019-06-07 17:22:00      0            25     21   \n",
       "746     JK-Network123 2019-06-07 22:49:46      0            11      6   \n",
       "747  SergeantBubbles7 2019-06-07 23:28:37      0             1      4   \n",
       "748            Nyxeme 2019-06-07 10:20:06      0             9     55   \n",
       "749          chad2215 2019-06-07 19:10:40      0            57     10   \n",
       "\n",
       "                                              selftext  \\\n",
       "745  Nust finished the show and it may as well be t...   \n",
       "746  Just curious but say Walter White aka Heisenbe...   \n",
       "747  Do they really live sparsely in reservations o...   \n",
       "748  Yesterday my girlfriend and I went out for sus...   \n",
       "749  What’s this guys problem man? So greedy ... co...   \n",
       "\n",
       "                                                 title  ups  \n",
       "745                            Just finished the show!   21  \n",
       "746  How infamous would Walter White be if he was R...    6  \n",
       "747  Is Breaking Bad’s representation of Native Ame...    4  \n",
       "748                         I saw Gus Fring yesterday!   55  \n",
       "749                 Walter is sick in the head man....   10  "
      ]
     },
     "execution_count": 18,
     "metadata": {},
     "output_type": "execute_result"
    }
   ],
   "source": [
    "post_info_df.head()"
   ]
  },
  {
   "cell_type": "code",
   "execution_count": 19,
   "metadata": {},
   "outputs": [
    {
     "data": {
      "text/plain": [
       "Index(['author', 'created_utc', 'downs', 'num_comments', 'score', 'selftext',\n",
       "       'title', 'ups'],\n",
       "      dtype='object')"
      ]
     },
     "execution_count": 19,
     "metadata": {},
     "output_type": "execute_result"
    }
   ],
   "source": [
    "# check keys\n",
    "post_info_df.keys()"
   ]
  },
  {
   "cell_type": "code",
   "execution_count": 20,
   "metadata": {},
   "outputs": [],
   "source": [
    "# create csv from dataframe\n",
    "# post_info_df.to_csv('../df_csv/breakingbad_tuesday.csv', index=True)"
   ]
  }
 ],
 "metadata": {
  "kernelspec": {
   "display_name": "Python 3",
   "language": "python",
   "name": "python3"
  },
  "language_info": {
   "codemirror_mode": {
    "name": "ipython",
    "version": 3
   },
   "file_extension": ".py",
   "mimetype": "text/x-python",
   "name": "python",
   "nbconvert_exporter": "python",
   "pygments_lexer": "ipython3",
   "version": "3.7.3"
  }
 },
 "nbformat": 4,
 "nbformat_minor": 2
}
