{
 "cells": [
  {
   "cell_type": "code",
   "execution_count": 13,
   "metadata": {},
   "outputs": [],
   "source": [
    "# imports\n",
    "import pandas as pd\n",
    "from bs4 import BeautifulSoup"
   ]
  },
  {
   "cell_type": "code",
   "execution_count": 14,
   "metadata": {},
   "outputs": [],
   "source": [
    "import requests\n",
    "import csv"
   ]
  },
  {
   "cell_type": "code",
   "execution_count": 15,
   "metadata": {},
   "outputs": [],
   "source": [
    "import time\n",
    "import json"
   ]
  },
  {
   "cell_type": "code",
   "execution_count": 16,
   "metadata": {},
   "outputs": [],
   "source": [
    "# better call saul reddit url\n",
    "url = 'https://www.reddit.com/r/betterCallSaul/.json'"
   ]
  },
  {
   "cell_type": "code",
   "execution_count": 17,
   "metadata": {},
   "outputs": [
    {
     "name": "stdout",
     "output_type": "stream",
     "text": [
      "200\n"
     ]
    }
   ],
   "source": [
    "# set headers\n",
    "headers = {'User-Agent': 'Mozilla/5.0'}\n",
    "\n",
    "# check response of url\n",
    "page = requests.get(url, headers=headers)\n",
    "print(page.status_code)"
   ]
  },
  {
   "cell_type": "code",
   "execution_count": 18,
   "metadata": {},
   "outputs": [],
   "source": [
    "# convert page to json\n",
    "the_json = page.json()"
   ]
  },
  {
   "cell_type": "code",
   "execution_count": 19,
   "metadata": {},
   "outputs": [
    {
     "data": {
      "text/plain": [
       "dict_keys(['kind', 'data'])"
      ]
     },
     "execution_count": 19,
     "metadata": {},
     "output_type": "execute_result"
    }
   ],
   "source": [
    "# check keys\n",
    "the_json.keys()"
   ]
  },
  {
   "cell_type": "code",
   "execution_count": 20,
   "metadata": {},
   "outputs": [
    {
     "data": {
      "text/plain": [
       "'t3_c9q9x8'"
      ]
     },
     "execution_count": 20,
     "metadata": {},
     "output_type": "execute_result"
    }
   ],
   "source": [
    "# find last user\n",
    "the_json['data']['after']"
   ]
  },
  {
   "cell_type": "code",
   "execution_count": 21,
   "metadata": {},
   "outputs": [
    {
     "data": {
      "text/plain": [
       "['t3_9w23tc',\n",
       " 't3_bl3wsi',\n",
       " 't3_cb075o',\n",
       " 't3_cb2ove',\n",
       " 't3_caou7o',\n",
       " 't3_caj0s3',\n",
       " 't3_cauvde',\n",
       " 't3_cb44an',\n",
       " 't3_calr3q',\n",
       " 't3_cb1qk4',\n",
       " 't3_cat1c7',\n",
       " 't3_cas3bf',\n",
       " 't3_cav1t5',\n",
       " 't3_ca4zub',\n",
       " 't3_camwtg',\n",
       " 't3_cajuvh',\n",
       " 't3_cabbq8',\n",
       " 't3_ca9lls',\n",
       " 't3_caidoa',\n",
       " 't3_caa47c',\n",
       " 't3_cabxpa',\n",
       " 't3_ca983l',\n",
       " 't3_c9z5q2',\n",
       " 't3_cad1r4',\n",
       " 't3_c9z3ih',\n",
       " 't3_ca6cc1',\n",
       " 't3_c9q9x8']"
      ]
     },
     "execution_count": 21,
     "metadata": {},
     "output_type": "execute_result"
    }
   ],
   "source": [
    "# confirm above\n",
    "[post['data']['name'] for post in the_json['data']['children']]"
   ]
  },
  {
   "cell_type": "code",
   "execution_count": 22,
   "metadata": {},
   "outputs": [],
   "source": [
    "# set params to last post\n",
    "params = {'after':'t3_c9q9x8' }"
   ]
  },
  {
   "cell_type": "code",
   "execution_count": 23,
   "metadata": {},
   "outputs": [
    {
     "data": {
      "text/plain": [
       "<Response [200]>"
      ]
     },
     "execution_count": 23,
     "metadata": {},
     "output_type": "execute_result"
    }
   ],
   "source": [
    "# final url response check\n",
    "requests.get(url, params=params, headers=headers)"
   ]
  },
  {
   "cell_type": "code",
   "execution_count": 24,
   "metadata": {},
   "outputs": [
    {
     "name": "stdout",
     "output_type": "stream",
     "text": [
      "0\n",
      "1\n",
      "2\n",
      "3\n",
      "4\n",
      "5\n",
      "6\n",
      "7\n",
      "8\n",
      "9\n",
      "10\n",
      "11\n",
      "12\n",
      "13\n",
      "14\n",
      "15\n",
      "16\n",
      "17\n",
      "18\n",
      "19\n",
      "20\n",
      "21\n",
      "22\n",
      "23\n",
      "24\n",
      "25\n",
      "26\n",
      "27\n",
      "28\n",
      "29\n"
     ]
    }
   ],
   "source": [
    "# loop to scrape posts\n",
    "\n",
    "posts = []\n",
    "after = None\n",
    "\n",
    "for i in range(30):\n",
    "    print(i)\n",
    "    \n",
    "    if after == None:\n",
    "        params = {}\n",
    "    else:\n",
    "        params = {'after':after}\n",
    "    url = 'https://www.reddit.com/r/betterCallSaul/.json'\n",
    "    res = requests.get(url, params=params, headers=headers)\n",
    "    \n",
    "    if res.status_code == 200:\n",
    "        the_json = res.json()\n",
    "        posts.extend(the_json['data']['children'])\n",
    "        after = the_json['data']['after']\n",
    "    else:\n",
    "        print(res.status_code)\n",
    "        break\n",
    "        \n",
    "    time.sleep(3)\n"
   ]
  },
  {
   "cell_type": "code",
   "execution_count": 25,
   "metadata": {},
   "outputs": [
    {
     "data": {
      "text/plain": [
       "752"
      ]
     },
     "execution_count": 25,
     "metadata": {},
     "output_type": "execute_result"
    }
   ],
   "source": [
    "# check for duplicates\n",
    "len(set([p['data']['name'] for p in posts]))"
   ]
  },
  {
   "cell_type": "code",
   "execution_count": 26,
   "metadata": {},
   "outputs": [],
   "source": [
    "# save to a json file to preserve all information scraped\n",
    "# with open('../json_files/bettercallsaul_tuesday.json', 'w') as f:\n",
    "#     json.dump(posts , f)"
   ]
  },
  {
   "cell_type": "code",
   "execution_count": 15,
   "metadata": {},
   "outputs": [],
   "source": [
    "# open saved json file for editing\n",
    "# with open(r\"../json_files/bettercallsaul_tuesday.json\", \"r\") as read_file:\n",
    "#     posts = json.load(read_file)"
   ]
  },
  {
   "cell_type": "code",
   "execution_count": 27,
   "metadata": {},
   "outputs": [],
   "source": [
    "# loop to extract desired data from posts \n",
    "\n",
    "post_info = []\n",
    "\n",
    "i = 0\n",
    "for post in posts:\n",
    "    info = {}\n",
    "    \n",
    "    info['title'] = posts[i]['data']['title']\n",
    "    info['selftext'] = posts[i]['data']['selftext']\n",
    "    info['author'] = posts[i]['data']['author']\n",
    "    info['ups'] = posts[i]['data']['ups']\n",
    "    info['downs'] = posts[i]['data']['downs']\n",
    "    info['score'] = posts[i]['data']['score']\n",
    "    info['num_comments'] = posts[i]['data']['num_comments']\n",
    "    info['created_utc'] = posts[i]['data']['created_utc']\n",
    "    post_info.append(info)\n",
    "    \n",
    "    i += 1\n",
    "    \n",
    "post_info_df = pd.DataFrame(post_info)\n"
   ]
  },
  {
   "cell_type": "code",
   "execution_count": 28,
   "metadata": {},
   "outputs": [],
   "source": [
    "import datetime"
   ]
  },
  {
   "cell_type": "code",
   "execution_count": 29,
   "metadata": {},
   "outputs": [],
   "source": [
    "# convert to proper datetime\n",
    "post_info_df['created_utc'] = pd.to_datetime(post_info_df['created_utc'], unit='s')"
   ]
  },
  {
   "cell_type": "code",
   "execution_count": 32,
   "metadata": {},
   "outputs": [
    {
     "data": {
      "text/html": [
       "<div>\n",
       "<style scoped>\n",
       "    .dataframe tbody tr th:only-of-type {\n",
       "        vertical-align: middle;\n",
       "    }\n",
       "\n",
       "    .dataframe tbody tr th {\n",
       "        vertical-align: top;\n",
       "    }\n",
       "\n",
       "    .dataframe thead th {\n",
       "        text-align: right;\n",
       "    }\n",
       "</style>\n",
       "<table border=\"1\" class=\"dataframe\">\n",
       "  <thead>\n",
       "    <tr style=\"text-align: right;\">\n",
       "      <th></th>\n",
       "      <th>author</th>\n",
       "      <th>created_utc</th>\n",
       "      <th>downs</th>\n",
       "      <th>num_comments</th>\n",
       "      <th>score</th>\n",
       "      <th>selftext</th>\n",
       "      <th>title</th>\n",
       "      <th>ups</th>\n",
       "    </tr>\n",
       "  </thead>\n",
       "  <tbody>\n",
       "    <tr>\n",
       "      <th>0</th>\n",
       "      <td>skinkbaa</td>\n",
       "      <td>2018-11-11 07:52:32</td>\n",
       "      <td>0</td>\n",
       "      <td>251</td>\n",
       "      <td>290</td>\n",
       "      <td>A few people requested this thread.\\n\\n--\\n\\nF...</td>\n",
       "      <td>Breaking Bad Movie - Prediction Thread</td>\n",
       "      <td>290</td>\n",
       "    </tr>\n",
       "    <tr>\n",
       "      <th>1</th>\n",
       "      <td>skinkbaa</td>\n",
       "      <td>2019-05-05 22:23:21</td>\n",
       "      <td>0</td>\n",
       "      <td>98</td>\n",
       "      <td>92</td>\n",
       "      <td>What do you think will happen next season? Fee...</td>\n",
       "      <td>Better Call Saul Season 5 - Official Predictio...</td>\n",
       "      <td>92</td>\n",
       "    </tr>\n",
       "    <tr>\n",
       "      <th>2</th>\n",
       "      <td>jerkii11</td>\n",
       "      <td>2019-07-09 12:26:20</td>\n",
       "      <td>0</td>\n",
       "      <td>48</td>\n",
       "      <td>711</td>\n",
       "      <td></td>\n",
       "      <td>Who is hyped for the next season</td>\n",
       "      <td>711</td>\n",
       "    </tr>\n",
       "    <tr>\n",
       "      <th>3</th>\n",
       "      <td>PK________</td>\n",
       "      <td>2019-07-09 15:55:11</td>\n",
       "      <td>0</td>\n",
       "      <td>3</td>\n",
       "      <td>21</td>\n",
       "      <td></td>\n",
       "      <td>“There are so many stars visible in New Mexico...</td>\n",
       "      <td>21</td>\n",
       "    </tr>\n",
       "    <tr>\n",
       "      <th>4</th>\n",
       "      <td>lazertoad</td>\n",
       "      <td>2019-07-08 18:26:48</td>\n",
       "      <td>0</td>\n",
       "      <td>56</td>\n",
       "      <td>365</td>\n",
       "      <td></td>\n",
       "      <td>I guess it really was about tequila.... from t...</td>\n",
       "      <td>365</td>\n",
       "    </tr>\n",
       "  </tbody>\n",
       "</table>\n",
       "</div>"
      ],
      "text/plain": [
       "       author         created_utc  downs  num_comments  score  \\\n",
       "0    skinkbaa 2018-11-11 07:52:32      0           251    290   \n",
       "1    skinkbaa 2019-05-05 22:23:21      0            98     92   \n",
       "2    jerkii11 2019-07-09 12:26:20      0            48    711   \n",
       "3  PK________ 2019-07-09 15:55:11      0             3     21   \n",
       "4   lazertoad 2019-07-08 18:26:48      0            56    365   \n",
       "\n",
       "                                            selftext  \\\n",
       "0  A few people requested this thread.\\n\\n--\\n\\nF...   \n",
       "1  What do you think will happen next season? Fee...   \n",
       "2                                                      \n",
       "3                                                      \n",
       "4                                                      \n",
       "\n",
       "                                               title  ups  \n",
       "0             Breaking Bad Movie - Prediction Thread  290  \n",
       "1  Better Call Saul Season 5 - Official Predictio...   92  \n",
       "2                   Who is hyped for the next season  711  \n",
       "3  “There are so many stars visible in New Mexico...   21  \n",
       "4  I guess it really was about tequila.... from t...  365  "
      ]
     },
     "execution_count": 32,
     "metadata": {},
     "output_type": "execute_result"
    }
   ],
   "source": [
    "post_info_df.head()"
   ]
  },
  {
   "cell_type": "code",
   "execution_count": null,
   "metadata": {},
   "outputs": [],
   "source": [
    "# check keys\n",
    "post_info_df.keys()"
   ]
  },
  {
   "cell_type": "code",
   "execution_count": null,
   "metadata": {},
   "outputs": [],
   "source": [
    "# create csv from dataframe\n",
    "# post_info_df.to_csv('../df_csv/bettercallsaul_tuesday.csv', index=True)"
   ]
  }
 ],
 "metadata": {
  "kernelspec": {
   "display_name": "Python 3",
   "language": "python",
   "name": "python3"
  },
  "language_info": {
   "codemirror_mode": {
    "name": "ipython",
    "version": 3
   },
   "file_extension": ".py",
   "mimetype": "text/x-python",
   "name": "python",
   "nbconvert_exporter": "python",
   "pygments_lexer": "ipython3",
   "version": "3.7.3"
  }
 },
 "nbformat": 4,
 "nbformat_minor": 2
}
