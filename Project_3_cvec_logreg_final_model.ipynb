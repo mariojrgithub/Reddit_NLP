{
 "cells": [
  {
   "cell_type": "markdown",
   "metadata": {},
   "source": [
    "# cvec using LogReg"
   ]
  },
  {
   "cell_type": "code",
   "execution_count": 1,
   "metadata": {},
   "outputs": [],
   "source": [
    "# imports\n",
    "import pandas as pd\n",
    "import numpy as np\n",
    "from sklearn.model_selection import cross_val_score, train_test_split, GridSearchCV"
   ]
  },
  {
   "cell_type": "code",
   "execution_count": 2,
   "metadata": {},
   "outputs": [],
   "source": [
    "from sklearn.feature_extraction.text import CountVectorizer, TfidfVectorizer\n",
    "from sklearn.linear_model import LogisticRegression\n",
    "import json"
   ]
  },
  {
   "cell_type": "code",
   "execution_count": 3,
   "metadata": {},
   "outputs": [],
   "source": [
    "from sklearn.metrics import accuracy_score, confusion_matrix, classification_report"
   ]
  },
  {
   "cell_type": "code",
   "execution_count": 4,
   "metadata": {},
   "outputs": [],
   "source": [
    "from sklearn.pipeline import Pipeline"
   ]
  },
  {
   "cell_type": "code",
   "execution_count": 5,
   "metadata": {},
   "outputs": [],
   "source": [
    "from sklearn.neighbors import KNeighborsClassifier"
   ]
  },
  {
   "cell_type": "code",
   "execution_count": 6,
   "metadata": {},
   "outputs": [],
   "source": [
    "import seaborn as sns\n",
    "import matplotlib.pyplot as plt"
   ]
  },
  {
   "cell_type": "code",
   "execution_count": 37,
   "metadata": {},
   "outputs": [],
   "source": [
    "# load df's\n",
    "bb = pd.read_csv('./df_csv/bbfinal.csv')\n",
    "bcs = pd.read_csv('./df_csv/bcsfinal.csv')"
   ]
  },
  {
   "cell_type": "code",
   "execution_count": 38,
   "metadata": {},
   "outputs": [
    {
     "data": {
      "text/html": [
       "<div>\n",
       "<style scoped>\n",
       "    .dataframe tbody tr th:only-of-type {\n",
       "        vertical-align: middle;\n",
       "    }\n",
       "\n",
       "    .dataframe tbody tr th {\n",
       "        vertical-align: top;\n",
       "    }\n",
       "\n",
       "    .dataframe thead th {\n",
       "        text-align: right;\n",
       "    }\n",
       "</style>\n",
       "<table border=\"1\" class=\"dataframe\">\n",
       "  <thead>\n",
       "    <tr style=\"text-align: right;\">\n",
       "      <th></th>\n",
       "      <th>author</th>\n",
       "      <th>created_utc</th>\n",
       "      <th>downs</th>\n",
       "      <th>num_comments</th>\n",
       "      <th>score</th>\n",
       "      <th>selftext</th>\n",
       "      <th>title</th>\n",
       "      <th>ups</th>\n",
       "      <th>subreddit</th>\n",
       "      <th>all_text</th>\n",
       "    </tr>\n",
       "  </thead>\n",
       "  <tbody>\n",
       "    <tr>\n",
       "      <th>0</th>\n",
       "      <td>Ashutosh1947</td>\n",
       "      <td>2019-07-07 12:03:45</td>\n",
       "      <td>0</td>\n",
       "      <td>6</td>\n",
       "      <td>188</td>\n",
       "      <td>NaN</td>\n",
       "      <td>Los pollos shifts towards noodles from chicken</td>\n",
       "      <td>188</td>\n",
       "      <td>1</td>\n",
       "      <td>Los pollos shifts towards noodles from chicken</td>\n",
       "    </tr>\n",
       "    <tr>\n",
       "      <th>1</th>\n",
       "      <td>Rykedan</td>\n",
       "      <td>2019-07-06 17:44:03</td>\n",
       "      <td>0</td>\n",
       "      <td>25</td>\n",
       "      <td>1875</td>\n",
       "      <td>NaN</td>\n",
       "      <td>Pretty cool Thought you guys would appreciated...</td>\n",
       "      <td>1875</td>\n",
       "      <td>1</td>\n",
       "      <td>Pretty cool Thought you guys would appreciated...</td>\n",
       "    </tr>\n",
       "    <tr>\n",
       "      <th>2</th>\n",
       "      <td>Burnnoticelover</td>\n",
       "      <td>2019-07-07 03:01:46</td>\n",
       "      <td>0</td>\n",
       "      <td>17</td>\n",
       "      <td>269</td>\n",
       "      <td>NaN</td>\n",
       "      <td>The ending we got was perfect but it would hav...</td>\n",
       "      <td>269</td>\n",
       "      <td>1</td>\n",
       "      <td>The ending we got was perfect but it would hav...</td>\n",
       "    </tr>\n",
       "    <tr>\n",
       "      <th>3</th>\n",
       "      <td>spillthetea13</td>\n",
       "      <td>2019-07-07 13:24:13</td>\n",
       "      <td>0</td>\n",
       "      <td>2</td>\n",
       "      <td>21</td>\n",
       "      <td>Its like a kitchen nightmare episode but inste...</td>\n",
       "      <td>Breaking bad movie idea</td>\n",
       "      <td>21</td>\n",
       "      <td>1</td>\n",
       "      <td>Breaking bad movie idea Its like a kitchen nig...</td>\n",
       "    </tr>\n",
       "    <tr>\n",
       "      <th>4</th>\n",
       "      <td>pretentiousiscool</td>\n",
       "      <td>2019-07-07 15:50:31</td>\n",
       "      <td>0</td>\n",
       "      <td>0</td>\n",
       "      <td>10</td>\n",
       "      <td>NaN</td>\n",
       "      <td>lmao</td>\n",
       "      <td>10</td>\n",
       "      <td>1</td>\n",
       "      <td>lmao</td>\n",
       "    </tr>\n",
       "  </tbody>\n",
       "</table>\n",
       "</div>"
      ],
      "text/plain": [
       "              author          created_utc  downs  num_comments  score  \\\n",
       "0       Ashutosh1947  2019-07-07 12:03:45      0             6    188   \n",
       "1            Rykedan  2019-07-06 17:44:03      0            25   1875   \n",
       "2    Burnnoticelover  2019-07-07 03:01:46      0            17    269   \n",
       "3      spillthetea13  2019-07-07 13:24:13      0             2     21   \n",
       "4  pretentiousiscool  2019-07-07 15:50:31      0             0     10   \n",
       "\n",
       "                                            selftext  \\\n",
       "0                                                NaN   \n",
       "1                                                NaN   \n",
       "2                                                NaN   \n",
       "3  Its like a kitchen nightmare episode but inste...   \n",
       "4                                                NaN   \n",
       "\n",
       "                                               title   ups  subreddit  \\\n",
       "0     Los pollos shifts towards noodles from chicken   188          1   \n",
       "1  Pretty cool Thought you guys would appreciated...  1875          1   \n",
       "2  The ending we got was perfect but it would hav...   269          1   \n",
       "3                            Breaking bad movie idea    21          1   \n",
       "4                                               lmao    10          1   \n",
       "\n",
       "                                            all_text  \n",
       "0    Los pollos shifts towards noodles from chicken   \n",
       "1  Pretty cool Thought you guys would appreciated...  \n",
       "2  The ending we got was perfect but it would hav...  \n",
       "3  Breaking bad movie idea Its like a kitchen nig...  \n",
       "4                                              lmao   "
      ]
     },
     "execution_count": 38,
     "metadata": {},
     "output_type": "execute_result"
    }
   ],
   "source": [
    "# check head\n",
    "bb.head()"
   ]
  },
  {
   "cell_type": "code",
   "execution_count": 39,
   "metadata": {},
   "outputs": [
    {
     "data": {
      "text/html": [
       "<div>\n",
       "<style scoped>\n",
       "    .dataframe tbody tr th:only-of-type {\n",
       "        vertical-align: middle;\n",
       "    }\n",
       "\n",
       "    .dataframe tbody tr th {\n",
       "        vertical-align: top;\n",
       "    }\n",
       "\n",
       "    .dataframe thead th {\n",
       "        text-align: right;\n",
       "    }\n",
       "</style>\n",
       "<table border=\"1\" class=\"dataframe\">\n",
       "  <thead>\n",
       "    <tr style=\"text-align: right;\">\n",
       "      <th></th>\n",
       "      <th>author</th>\n",
       "      <th>created_utc</th>\n",
       "      <th>downs</th>\n",
       "      <th>num_comments</th>\n",
       "      <th>score</th>\n",
       "      <th>selftext</th>\n",
       "      <th>title</th>\n",
       "      <th>ups</th>\n",
       "      <th>subreddit</th>\n",
       "      <th>all_text</th>\n",
       "    </tr>\n",
       "  </thead>\n",
       "  <tbody>\n",
       "    <tr>\n",
       "      <th>0</th>\n",
       "      <td>skinkbaa</td>\n",
       "      <td>2018-11-11 07:52:32</td>\n",
       "      <td>0</td>\n",
       "      <td>251</td>\n",
       "      <td>296</td>\n",
       "      <td>A few people requested this thread    Feel fre...</td>\n",
       "      <td>Breaking Bad Movie   Prediction Thread</td>\n",
       "      <td>296</td>\n",
       "      <td>0</td>\n",
       "      <td>Breaking Bad Movie   Prediction Thread A few p...</td>\n",
       "    </tr>\n",
       "    <tr>\n",
       "      <th>1</th>\n",
       "      <td>skinkbaa</td>\n",
       "      <td>2019-05-05 22:23:21</td>\n",
       "      <td>0</td>\n",
       "      <td>98</td>\n",
       "      <td>88</td>\n",
       "      <td>What do you think will happen next season Feel...</td>\n",
       "      <td>Better Call Saul Season 5   Official Predictio...</td>\n",
       "      <td>88</td>\n",
       "      <td>0</td>\n",
       "      <td>Better Call Saul Season 5   Official Predictio...</td>\n",
       "    </tr>\n",
       "    <tr>\n",
       "      <th>2</th>\n",
       "      <td>snarfje</td>\n",
       "      <td>2019-07-07 09:20:38</td>\n",
       "      <td>0</td>\n",
       "      <td>36</td>\n",
       "      <td>944</td>\n",
       "      <td>NaN</td>\n",
       "      <td>Saw this gentlemen on a  foodtruck festival  i...</td>\n",
       "      <td>944</td>\n",
       "      <td>0</td>\n",
       "      <td>Saw this gentlemen on a  foodtruck festival  i...</td>\n",
       "    </tr>\n",
       "    <tr>\n",
       "      <th>3</th>\n",
       "      <td>RrentTreznor</td>\n",
       "      <td>2019-07-06 21:50:07</td>\n",
       "      <td>0</td>\n",
       "      <td>35</td>\n",
       "      <td>404</td>\n",
       "      <td>NaN</td>\n",
       "      <td>Cherished family heirloom finally has made its...</td>\n",
       "      <td>404</td>\n",
       "      <td>0</td>\n",
       "      <td>Cherished family heirloom finally has made its...</td>\n",
       "    </tr>\n",
       "    <tr>\n",
       "      <th>4</th>\n",
       "      <td>Ashutosh1947</td>\n",
       "      <td>2019-07-07 16:12:49</td>\n",
       "      <td>0</td>\n",
       "      <td>0</td>\n",
       "      <td>1</td>\n",
       "      <td>NaN</td>\n",
       "      <td>Oc</td>\n",
       "      <td>1</td>\n",
       "      <td>0</td>\n",
       "      <td>Oc</td>\n",
       "    </tr>\n",
       "  </tbody>\n",
       "</table>\n",
       "</div>"
      ],
      "text/plain": [
       "         author          created_utc  downs  num_comments  score  \\\n",
       "0      skinkbaa  2018-11-11 07:52:32      0           251    296   \n",
       "1      skinkbaa  2019-05-05 22:23:21      0            98     88   \n",
       "2       snarfje  2019-07-07 09:20:38      0            36    944   \n",
       "3  RrentTreznor  2019-07-06 21:50:07      0            35    404   \n",
       "4  Ashutosh1947  2019-07-07 16:12:49      0             0      1   \n",
       "\n",
       "                                            selftext  \\\n",
       "0  A few people requested this thread    Feel fre...   \n",
       "1  What do you think will happen next season Feel...   \n",
       "2                                                NaN   \n",
       "3                                                NaN   \n",
       "4                                                NaN   \n",
       "\n",
       "                                               title  ups  subreddit  \\\n",
       "0             Breaking Bad Movie   Prediction Thread  296          0   \n",
       "1  Better Call Saul Season 5   Official Predictio...   88          0   \n",
       "2  Saw this gentlemen on a  foodtruck festival  i...  944          0   \n",
       "3  Cherished family heirloom finally has made its...  404          0   \n",
       "4                                                 Oc    1          0   \n",
       "\n",
       "                                            all_text  \n",
       "0  Breaking Bad Movie   Prediction Thread A few p...  \n",
       "1  Better Call Saul Season 5   Official Predictio...  \n",
       "2  Saw this gentlemen on a  foodtruck festival  i...  \n",
       "3  Cherished family heirloom finally has made its...  \n",
       "4                                                Oc   "
      ]
     },
     "execution_count": 39,
     "metadata": {},
     "output_type": "execute_result"
    }
   ],
   "source": [
    "# check head\n",
    "bcs.head()"
   ]
  },
  {
   "cell_type": "code",
   "execution_count": 40,
   "metadata": {},
   "outputs": [],
   "source": [
    "# combine df's into one large one\n",
    "data = pd.concat(objs=[bcs[['all_text', 'subreddit', 'num_comments', 'score']], bb[['all_text', 'subreddit', 'num_comments', 'score']]], ignore_index=True)"
   ]
  },
  {
   "cell_type": "code",
   "execution_count": 41,
   "metadata": {},
   "outputs": [
    {
     "data": {
      "text/plain": [
       "1    0.513871\n",
       "0    0.486129\n",
       "Name: subreddit, dtype: float64"
      ]
     },
     "execution_count": 41,
     "metadata": {},
     "output_type": "execute_result"
    }
   ],
   "source": [
    "# check number of 1's and 0's in target\n",
    "data['subreddit'].value_counts(normalize=True)"
   ]
  },
  {
   "cell_type": "code",
   "execution_count": 42,
   "metadata": {},
   "outputs": [
    {
     "data": {
      "text/plain": [
       "<matplotlib.axes._subplots.AxesSubplot at 0x1a1c96bdd8>"
      ]
     },
     "execution_count": 42,
     "metadata": {},
     "output_type": "execute_result"
    },
    {
     "data": {
      "image/png": "[encoded data removed]",
      "text/plain": [
       "<Figure size 432x288 with 1 Axes>"
      ]
     },
     "metadata": {
      "needs_background": "light"
     },
     "output_type": "display_data"
    }
   ],
   "source": [
    "# dist of 1's and 0's\n",
    "sns.distplot(data['subreddit'])"
   ]
  },
  {
   "cell_type": "code",
   "execution_count": 68,
   "metadata": {},
   "outputs": [],
   "source": [
    "# remove numbers from text\n",
    "# data['all_text'] = data['all_text'].str.replace('\\d+', '')"
   ]
  },
  {
   "cell_type": "code",
   "execution_count": 43,
   "metadata": {},
   "outputs": [],
   "source": [
    "# set X and y variables\n",
    "X = data['all_text']\n",
    "y = data['subreddit']"
   ]
  },
  {
   "cell_type": "code",
   "execution_count": 44,
   "metadata": {},
   "outputs": [],
   "source": [
    "# train test split\n",
    "X_train, X_test, y_train, y_test = train_test_split(X, y, stratify=y, test_size=0.3, random_state=42)"
   ]
  },
  {
   "cell_type": "code",
   "execution_count": 45,
   "metadata": {},
   "outputs": [],
   "source": [
    "# pipeline\n",
    "\n",
    "pipe = Pipeline([\n",
    "    ('cvec', CountVectorizer()),\n",
    "    ('lr', LogisticRegression())\n",
    "])"
   ]
  },
  {
   "cell_type": "code",
   "execution_count": 46,
   "metadata": {},
   "outputs": [
    {
     "name": "stderr",
     "output_type": "stream",
     "text": [
      "/Users/mariosanchez/anaconda3/envs/dsi/lib/python3.7/site-packages/sklearn/linear_model/logistic.py:432: FutureWarning: Default solver will be changed to 'lbfgs' in 0.22. Specify a solver to silence this warning.\n",
      "  FutureWarning)\n"
     ]
    },
    {
     "data": {
      "text/plain": [
       "0.7585585585585586"
      ]
     },
     "execution_count": 46,
     "metadata": {},
     "output_type": "execute_result"
    }
   ],
   "source": [
    "# evaluate on unseen data\n",
    "cross_val_score(pipe, X_train, y_train, cv=5).mean()"
   ]
  },
  {
   "cell_type": "code",
   "execution_count": 47,
   "metadata": {},
   "outputs": [
    {
     "name": "stderr",
     "output_type": "stream",
     "text": [
      "/Users/mariosanchez/anaconda3/envs/dsi/lib/python3.7/site-packages/sklearn/linear_model/logistic.py:432: FutureWarning: Default solver will be changed to 'lbfgs' in 0.22. Specify a solver to silence this warning.\n",
      "  FutureWarning)\n"
     ]
    },
    {
     "name": "stdout",
     "output_type": "stream",
     "text": [
      "0.7855855855855856\n"
     ]
    },
    {
     "data": {
      "text/plain": [
       "{'cvec__max_df': 0.9,\n",
       " 'cvec__max_features': 3000,\n",
       " 'cvec__min_df': 2,\n",
       " 'cvec__ngram_range': (1, 1),\n",
       " 'cvec__stop_words': 'english',\n",
       " 'lr__C': 0.1,\n",
       " 'lr__penalty': 'l2'}"
      ]
     },
     "execution_count": 47,
     "metadata": {},
     "output_type": "execute_result"
    }
   ],
   "source": [
    "# gridsearch for best parameters\n",
    "\n",
    "pipe_params = {\n",
    "    'cvec__max_features':[3000, 3500, 4000],\n",
    "    'cvec__min_df':[2, 3],\n",
    "    'cvec__max_df':[.9, .95],\n",
    "    'cvec__ngram_range':[(1,1),(1,2)],\n",
    "    'cvec__stop_words':[None, 'english'],\n",
    "    'lr__penalty':['l1','l2'],\n",
    "    'lr__C':[.1, 1, 10],\n",
    "    \n",
    "}\n",
    "\n",
    "gs = GridSearchCV(pipe, param_grid=pipe_params, cv=5)\n",
    "gs.fit(X_train, y_train)\n",
    "print(gs.best_score_)\n",
    "gs.best_params_"
   ]
  },
  {
   "cell_type": "code",
   "execution_count": 48,
   "metadata": {},
   "outputs": [
    {
     "data": {
      "text/plain": [
       "0.8954954954954955"
      ]
     },
     "execution_count": 48,
     "metadata": {},
     "output_type": "execute_result"
    }
   ],
   "source": [
    "# accuracy score on train data\n",
    "gs.score(X_train, y_train)"
   ]
  },
  {
   "cell_type": "code",
   "execution_count": 49,
   "metadata": {},
   "outputs": [
    {
     "data": {
      "text/plain": [
       "0.7689075630252101"
      ]
     },
     "execution_count": 49,
     "metadata": {},
     "output_type": "execute_result"
    }
   ],
   "source": [
    "# accuracy score on test data\n",
    "gs.score(X_test, y_test)"
   ]
  },
  {
   "cell_type": "markdown",
   "metadata": {},
   "source": [
    "## Fit model with optimal parameters"
   ]
  },
  {
   "cell_type": "code",
   "execution_count": 20,
   "metadata": {},
   "outputs": [],
   "source": [
    "cvec = CountVectorizer(max_df= 0.9,\n",
    " max_features= 4000,\n",
    " min_df= 2,\n",
    " ngram_range= (1, 2),\n",
    " stop_words= 'english')"
   ]
  },
  {
   "cell_type": "code",
   "execution_count": 21,
   "metadata": {},
   "outputs": [],
   "source": [
    "X_train_vec = cvec.fit_transform(X_train)\n",
    "X_test_vec = cvec.transform(X_test)"
   ]
  },
  {
   "cell_type": "code",
   "execution_count": 22,
   "metadata": {},
   "outputs": [],
   "source": [
    "lr = LogisticRegression(\n",
    "    C=0.1,\n",
    "    penalty='l2'\n",
    ")"
   ]
  },
  {
   "cell_type": "code",
   "execution_count": 23,
   "metadata": {},
   "outputs": [
    {
     "data": {
      "text/plain": [
       "LogisticRegression(C=0.1, class_weight=None, dual=False, fit_intercept=True,\n",
       "                   intercept_scaling=1, l1_ratio=None, max_iter=100,\n",
       "                   multi_class='warn', n_jobs=None, penalty='l2',\n",
       "                   random_state=None, solver='warn', tol=0.0001, verbose=0,\n",
       "                   warm_start=False)"
      ]
     },
     "execution_count": 23,
     "metadata": {},
     "output_type": "execute_result"
    }
   ],
   "source": [
    "lr.fit(X_train_vec, y_train)"
   ]
  },
  {
   "cell_type": "code",
   "execution_count": 24,
   "metadata": {},
   "outputs": [],
   "source": [
    "# get predictions\n",
    "predictions = lr.predict(X_test_vec)"
   ]
  },
  {
   "cell_type": "code",
   "execution_count": 34,
   "metadata": {},
   "outputs": [],
   "source": [
    "# create confusion matrix\n",
    "cm = confusion_matrix(y_test, predictions)"
   ]
  },
  {
   "cell_type": "code",
   "execution_count": 57,
   "metadata": {},
   "outputs": [
    {
     "name": "stdout",
     "output_type": "stream",
     "text": [
      "              precision    recall  f1-score   support\n",
      "\n",
      "           0       0.65      0.83      0.73       180\n",
      "           1       0.88      0.73      0.79       296\n",
      "\n",
      "    accuracy                           0.77       476\n",
      "   macro avg       0.76      0.78      0.76       476\n",
      "weighted avg       0.79      0.77      0.77       476\n",
      "\n"
     ]
    }
   ],
   "source": [
    "# print report\n",
    "print(classification_report(predictions, y_test))"
   ]
  },
  {
   "cell_type": "code",
   "execution_count": 62,
   "metadata": {},
   "outputs": [
    {
     "data": {
      "image/png": "[encoded data removed]",
      "text/plain": [
       "<Figure size 432x288 with 2 Axes>"
      ]
     },
     "metadata": {
      "needs_background": "light"
     },
     "output_type": "display_data"
    }
   ],
   "source": [
    "# adapted from stackoverflow\n",
    "# plot confusion matrix\n",
    "ax= plt.subplot()\n",
    "plt.title('Confusion Matrix')\n",
    "\n",
    "sns.heatmap(cm, annot=True, ax = ax, cmap='Blues', fmt='g'); #annot=True to annotate cells"
   ]
  },
  {
   "cell_type": "code",
   "execution_count": 27,
   "metadata": {},
   "outputs": [],
   "source": [
    "# create a list of word counts to plot\n",
    "train_list = list(zip(cvec.get_feature_names(), X_train_vec.toarray().sum(axis=0)))"
   ]
  },
  {
   "cell_type": "code",
   "execution_count": 28,
   "metadata": {},
   "outputs": [],
   "source": [
    "# convert to dataframe\n",
    "train_list = pd.DataFrame(train_list, columns=['word', 'word_count'])"
   ]
  },
  {
   "cell_type": "code",
   "execution_count": 50,
   "metadata": {},
   "outputs": [],
   "source": [
    "# create a list of coefficients\n",
    "coef_list = list(zip(cvec.get_feature_names(), np.exp(lr.coef_).mean(axis=0)))"
   ]
  },
  {
   "cell_type": "code",
   "execution_count": 51,
   "metadata": {},
   "outputs": [],
   "source": [
    "# convert to dataframe\n",
    "coef_list = pd.DataFrame(coef_list, columns=['word', 'coeffs'])"
   ]
  },
  {
   "cell_type": "code",
   "execution_count": 52,
   "metadata": {},
   "outputs": [],
   "source": [
    "# get only the 15 highest coefficients\n",
    "coef_top_15 = coef_list.sort_values(by='coeffs', ascending=False).head(15)"
   ]
  },
  {
   "cell_type": "code",
   "execution_count": 55,
   "metadata": {},
   "outputs": [
    {
     "data": {
      "text/html": [
       "<div>\n",
       "<style scoped>\n",
       "    .dataframe tbody tr th:only-of-type {\n",
       "        vertical-align: middle;\n",
       "    }\n",
       "\n",
       "    .dataframe tbody tr th {\n",
       "        vertical-align: top;\n",
       "    }\n",
       "\n",
       "    .dataframe thead th {\n",
       "        text-align: right;\n",
       "    }\n",
       "</style>\n",
       "<table border=\"1\" class=\"dataframe\">\n",
       "  <thead>\n",
       "    <tr style=\"text-align: right;\">\n",
       "      <th></th>\n",
       "      <th>word</th>\n",
       "      <th>coeffs</th>\n",
       "    </tr>\n",
       "  </thead>\n",
       "  <tbody>\n",
       "    <tr>\n",
       "      <th>1769</th>\n",
       "      <td>jesse</td>\n",
       "      <td>1.823683</td>\n",
       "    </tr>\n",
       "    <tr>\n",
       "      <th>3717</th>\n",
       "      <td>walt</td>\n",
       "      <td>1.743551</td>\n",
       "    </tr>\n",
       "    <tr>\n",
       "      <th>3212</th>\n",
       "      <td>skyler</td>\n",
       "      <td>1.656160</td>\n",
       "    </tr>\n",
       "    <tr>\n",
       "      <th>3748</th>\n",
       "      <td>walter</td>\n",
       "      <td>1.602762</td>\n",
       "    </tr>\n",
       "    <tr>\n",
       "      <th>1198</th>\n",
       "      <td>finished</td>\n",
       "      <td>1.468926</td>\n",
       "    </tr>\n",
       "    <tr>\n",
       "      <th>515</th>\n",
       "      <td>characters</td>\n",
       "      <td>1.408507</td>\n",
       "    </tr>\n",
       "    <tr>\n",
       "      <th>3762</th>\n",
       "      <td>walts</td>\n",
       "      <td>1.393804</td>\n",
       "    </tr>\n",
       "    <tr>\n",
       "      <th>2445</th>\n",
       "      <td>opinion</td>\n",
       "      <td>1.354334</td>\n",
       "    </tr>\n",
       "    <tr>\n",
       "      <th>1458</th>\n",
       "      <td>hank</td>\n",
       "      <td>1.345556</td>\n",
       "    </tr>\n",
       "    <tr>\n",
       "      <th>1841</th>\n",
       "      <td>just</td>\n",
       "      <td>1.338644</td>\n",
       "    </tr>\n",
       "    <tr>\n",
       "      <th>1519</th>\n",
       "      <td>heisenberg</td>\n",
       "      <td>1.324847</td>\n",
       "    </tr>\n",
       "    <tr>\n",
       "      <th>2183</th>\n",
       "      <td>marie</td>\n",
       "      <td>1.319464</td>\n",
       "    </tr>\n",
       "    <tr>\n",
       "      <th>1939</th>\n",
       "      <td>know</td>\n",
       "      <td>1.316985</td>\n",
       "    </tr>\n",
       "    <tr>\n",
       "      <th>3528</th>\n",
       "      <td>time</td>\n",
       "      <td>1.303163</td>\n",
       "    </tr>\n",
       "    <tr>\n",
       "      <th>388</th>\n",
       "      <td>brba</td>\n",
       "      <td>1.276329</td>\n",
       "    </tr>\n",
       "  </tbody>\n",
       "</table>\n",
       "</div>"
      ],
      "text/plain": [
       "            word    coeffs\n",
       "1769       jesse  1.823683\n",
       "3717        walt  1.743551\n",
       "3212      skyler  1.656160\n",
       "3748      walter  1.602762\n",
       "1198    finished  1.468926\n",
       "515   characters  1.408507\n",
       "3762       walts  1.393804\n",
       "2445     opinion  1.354334\n",
       "1458        hank  1.345556\n",
       "1841        just  1.338644\n",
       "1519  heisenberg  1.324847\n",
       "2183       marie  1.319464\n",
       "1939        know  1.316985\n",
       "3528        time  1.303163\n",
       "388         brba  1.276329"
      ]
     },
     "execution_count": 55,
     "metadata": {},
     "output_type": "execute_result"
    }
   ],
   "source": [
    "coef_top_15"
   ]
  },
  {
   "cell_type": "code",
   "execution_count": 30,
   "metadata": {},
   "outputs": [],
   "source": [
    "# get only the 15 most frequent words\n",
    "top_15 = train_list.sort_values(by='word_count', ascending=False).head(15)"
   ]
  },
  {
   "cell_type": "code",
   "execution_count": 54,
   "metadata": {
    "collapsed": true
   },
   "outputs": [
    {
     "data": {
      "text/html": [
       "<div>\n",
       "<style scoped>\n",
       "    .dataframe tbody tr th:only-of-type {\n",
       "        vertical-align: middle;\n",
       "    }\n",
       "\n",
       "    .dataframe tbody tr th {\n",
       "        vertical-align: top;\n",
       "    }\n",
       "\n",
       "    .dataframe thead th {\n",
       "        text-align: right;\n",
       "    }\n",
       "</style>\n",
       "<table border=\"1\" class=\"dataframe\">\n",
       "  <thead>\n",
       "    <tr style=\"text-align: right;\">\n",
       "      <th></th>\n",
       "      <th>word</th>\n",
       "      <th>word_count</th>\n",
       "    </tr>\n",
       "  </thead>\n",
       "  <tbody>\n",
       "    <tr>\n",
       "      <th>3057</th>\n",
       "      <td>season</td>\n",
       "      <td>343</td>\n",
       "    </tr>\n",
       "    <tr>\n",
       "      <th>1841</th>\n",
       "      <td>just</td>\n",
       "      <td>341</td>\n",
       "    </tr>\n",
       "    <tr>\n",
       "      <th>3717</th>\n",
       "      <td>walt</td>\n",
       "      <td>311</td>\n",
       "    </tr>\n",
       "    <tr>\n",
       "      <th>215</th>\n",
       "      <td>bad</td>\n",
       "      <td>269</td>\n",
       "    </tr>\n",
       "    <tr>\n",
       "      <th>2965</th>\n",
       "      <td>saul</td>\n",
       "      <td>263</td>\n",
       "    </tr>\n",
       "    <tr>\n",
       "      <th>2038</th>\n",
       "      <td>like</td>\n",
       "      <td>257</td>\n",
       "    </tr>\n",
       "    <tr>\n",
       "      <th>393</th>\n",
       "      <td>breaking</td>\n",
       "      <td>244</td>\n",
       "    </tr>\n",
       "    <tr>\n",
       "      <th>1793</th>\n",
       "      <td>jimmy</td>\n",
       "      <td>227</td>\n",
       "    </tr>\n",
       "    <tr>\n",
       "      <th>394</th>\n",
       "      <td>breaking bad</td>\n",
       "      <td>224</td>\n",
       "    </tr>\n",
       "    <tr>\n",
       "      <th>1769</th>\n",
       "      <td>jesse</td>\n",
       "      <td>212</td>\n",
       "    </tr>\n",
       "    <tr>\n",
       "      <th>3472</th>\n",
       "      <td>think</td>\n",
       "      <td>202</td>\n",
       "    </tr>\n",
       "    <tr>\n",
       "      <th>1022</th>\n",
       "      <td>episode</td>\n",
       "      <td>171</td>\n",
       "    </tr>\n",
       "    <tr>\n",
       "      <th>2266</th>\n",
       "      <td>mike</td>\n",
       "      <td>168</td>\n",
       "    </tr>\n",
       "    <tr>\n",
       "      <th>1632</th>\n",
       "      <td>im</td>\n",
       "      <td>163</td>\n",
       "    </tr>\n",
       "    <tr>\n",
       "      <th>544</th>\n",
       "      <td>chuck</td>\n",
       "      <td>146</td>\n",
       "    </tr>\n",
       "  </tbody>\n",
       "</table>\n",
       "</div>"
      ],
      "text/plain": [
       "              word  word_count\n",
       "3057        season         343\n",
       "1841          just         341\n",
       "3717          walt         311\n",
       "215            bad         269\n",
       "2965          saul         263\n",
       "2038          like         257\n",
       "393       breaking         244\n",
       "1793         jimmy         227\n",
       "394   breaking bad         224\n",
       "1769         jesse         212\n",
       "3472         think         202\n",
       "1022       episode         171\n",
       "2266          mike         168\n",
       "1632            im         163\n",
       "544          chuck         146"
      ]
     },
     "execution_count": 54,
     "metadata": {},
     "output_type": "execute_result"
    }
   ],
   "source": [
    "top_15"
   ]
  },
  {
   "cell_type": "code",
   "execution_count": 31,
   "metadata": {},
   "outputs": [],
   "source": [
    "# get only the 15 least frequent words\n",
    "bottom_15 = train_list.sort_values(by='word_count').head(15)"
   ]
  },
  {
   "cell_type": "code",
   "execution_count": 32,
   "metadata": {},
   "outputs": [
    {
     "data": {
      "text/plain": [
       "<matplotlib.axes._subplots.AxesSubplot at 0x1a1c7778d0>"
      ]
     },
     "execution_count": 32,
     "metadata": {},
     "output_type": "execute_result"
    },
    {
     "data": {
      "image/png": "[encoded data removed]",
      "text/plain": [
       "<Figure size 432x288 with 1 Axes>"
      ]
     },
     "metadata": {
      "needs_background": "light"
     },
     "output_type": "display_data"
    }
   ],
   "source": [
    "sns.barplot('word_count', 'word', data=top_15, orient='h')"
   ]
  },
  {
   "cell_type": "code",
   "execution_count": 53,
   "metadata": {},
   "outputs": [
    {
     "data": {
      "text/plain": [
       "<matplotlib.axes._subplots.AxesSubplot at 0x1a1d077080>"
      ]
     },
     "execution_count": 53,
     "metadata": {},
     "output_type": "execute_result"
    },
    {
     "data": {
      "image/png": "[encoded data removed]",
      "text/plain": [
       "<Figure size 432x288 with 1 Axes>"
      ]
     },
     "metadata": {
      "needs_background": "light"
     },
     "output_type": "display_data"
    }
   ],
   "source": [
    "sns.barplot('coeffs', 'word', data=coef_top_15, orient='h')"
   ]
  },
  {
   "cell_type": "code",
   "execution_count": null,
   "metadata": {},
   "outputs": [],
   "source": []
  }
 ],
 "metadata": {
  "kernelspec": {
   "display_name": "Python 3",
   "language": "python",
   "name": "python3"
  },
  "language_info": {
   "codemirror_mode": {
    "name": "ipython",
    "version": 3
   },
   "file_extension": ".py",
   "mimetype": "text/x-python",
   "name": "python",
   "nbconvert_exporter": "python",
   "pygments_lexer": "ipython3",
   "version": "3.7.3"
  }
 },
 "nbformat": 4,
 "nbformat_minor": 2
}
